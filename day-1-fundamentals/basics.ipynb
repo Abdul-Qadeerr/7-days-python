{
  "cells": [
    {
      "cell_type": "markdown",
      "metadata": {
        "id": "gDSPQYrMogrR"
      },
      "source": [
        "# 🐍 Python Basics - Day 1\n",
        "\n",
        "This notebook explains the basic building blocks of Python programming.\n",
        "\n",
        "**Topics Covered:**\n",
        "- Variables and Data Types\n",
        "- Arithmetic Operations\n",
        "- String Operations\n",
        "- Boolean Values\n"
      ]
    },
    {
      "cell_type": "code",
      "execution_count": 2,
      "metadata": {
        "colab": {
          "base_uri": "https://localhost:8080/"
        },
        "id": "IKzK0g3dogrT",
        "outputId": "9f1234ac-619a-40f6-8e39-dea6258cee5a"
      },
      "outputs": [
        {
          "output_type": "stream",
          "name": "stdout",
          "text": [
            "Welcome to Python Basics! 🚀\n",
            "\n"
          ]
        }
      ],
      "source": [
        "# Let's begin with a simple message\n",
        "print(\"Welcome to Python Basics! 🚀\\n\")"
      ]
    },
    {
      "cell_type": "markdown",
      "metadata": {
        "id": "ofQmDfGKogrU"
      },
      "source": [
        "## 1. 📦 Variables and Data Types\n",
        "\n",
        "Variables are used to store information like text, numbers, or yes/no (true/false)."
      ]
    },
    {
      "cell_type": "code",
      "execution_count": 6,
      "metadata": {
        "id": "NCCA3cBLogrV"
      },
      "outputs": [],
      "source": [
        "name = \"Qadeer\"        # text (string)\n",
        "age = 20               # whole number (integer)\n",
        "height = 5.7           # decimal number (float)\n",
        "is_student = True      # true or false (boolean)"
      ]
    },
    {
      "cell_type": "code",
      "execution_count": 5,
      "metadata": {
        "colab": {
          "base_uri": "https://localhost:8080/"
        },
        "id": "G_7EdWipogrV",
        "outputId": "6797d0bf-172c-4ac9-c755-604feb6c3925"
      },
      "outputs": [
        {
          "output_type": "stream",
          "name": "stdout",
          "text": [
            "Name: Qadeer\n",
            "Age: 20\n",
            "Height: 5.7\n",
            "Is Student: True\n"
          ]
        }
      ],
      "source": [
        "print(\"Name:\", name)\n",
        "print(\"Age:\", age)\n",
        "print(\"Height:\", height)\n",
        "print(\"Is Student:\", is_student)"
      ]
    },
    {
      "cell_type": "markdown",
      "metadata": {
        "id": "x3OD8T-vogrW"
      },
      "source": [
        "## 2. ➕ Arithmetic Operations\n",
        "\n",
        "We can do basic math using Python."
      ]
    },
    {
      "cell_type": "code",
      "execution_count": 7,
      "metadata": {
        "id": "Q4W6BO3HogrW"
      },
      "outputs": [],
      "source": [
        "a = 10\n",
        "b = 3"
      ]
    },
    {
      "cell_type": "code",
      "execution_count": 8,
      "metadata": {
        "colab": {
          "base_uri": "https://localhost:8080/"
        },
        "id": "PziBjqjPogrW",
        "outputId": "952d1231-9775-42f6-f9d5-925c8871f1f8"
      },
      "outputs": [
        {
          "output_type": "stream",
          "name": "stdout",
          "text": [
            "a + b = 13\n",
            "a - b = 7\n",
            "a * b = 30\n",
            "a / b = 3.3333333333333335\n",
            "a % b = 1\n",
            "a ** b = 1000\n"
          ]
        }
      ],
      "source": [
        "print(\"a + b =\", a + b)  # Add\n",
        "print(\"a - b =\", a - b)  # Subtract\n",
        "print(\"a * b =\", a * b)  # Multiply\n",
        "print(\"a / b =\", a / b)  # Divide (decimal)\n",
        "print(\"a % b =\", a % b)  # Remainder\n",
        "print(\"a ** b =\", a ** b) # Power"
      ]
    },
    {
      "cell_type": "markdown",
      "metadata": {
        "id": "H3XrNSlBogrX"
      },
      "source": [
        "## 3. 🔤 String (Text) Operations\n",
        "\n",
        "We can join, change, and check text values."
      ]
    },
    {
      "cell_type": "code",
      "execution_count": 15,
      "metadata": {
        "id": "yYqdSlHUogrX"
      },
      "outputs": [],
      "source": [
        "first_name = \"Abeer\"\n",
        "last_name = \"Qadeer\"\n",
        "full_name = first_name + \" \" + last_name"
      ]
    },
    {
      "cell_type": "code",
      "execution_count": 17,
      "metadata": {
        "colab": {
          "base_uri": "https://localhost:8080/"
        },
        "id": "RGhx2X0togrX",
        "outputId": "f21e3941-f940-40f7-f013-731a94585615"
      },
      "outputs": [
        {
          "output_type": "stream",
          "name": "stdout",
          "text": [
            "Full Name: Abeer Qadeer\n",
            "Uppercase: ABEER QADEER\n",
            "Length of name: 12\n"
          ]
        }
      ],
      "source": [
        "print(\"Full Name:\", full_name)\n",
        "print(\"Uppercase:\", full_name.upper())\n",
        "print(\"Length of name:\", len(full_name))"
      ]
    },
    {
      "cell_type": "markdown",
      "metadata": {
        "id": "w9aeSsw_ogrX"
      },
      "source": [
        "## 4. ✅ Boolean (True/False)\n",
        "\n",
        "Used when we want to check yes/no values."
      ]
    },
    {
      "cell_type": "code",
      "execution_count": 18,
      "metadata": {
        "id": "TBdMY5V5ogrY"
      },
      "outputs": [],
      "source": [
        "is_smart = True\n",
        "is_lazy = False"
      ]
    },
    {
      "cell_type": "code",
      "execution_count": 19,
      "metadata": {
        "colab": {
          "base_uri": "https://localhost:8080/"
        },
        "id": "63zrzEMfogrY",
        "outputId": "4161c9d2-243b-476f-ff28-9e8b0ad5000f"
      },
      "outputs": [
        {
          "output_type": "stream",
          "name": "stdout",
          "text": [
            "Smart and Lazy: False\n",
            "Smart or Lazy: True\n",
            "Not Smart: False\n"
          ]
        }
      ],
      "source": [
        "print(\"Smart and Lazy:\", is_smart and is_lazy)  # Both True?\n",
        "print(\"Smart or Lazy:\", is_smart or is_lazy)    # Any one True?\n",
        "print(\"Not Smart:\", not is_smart)              # Opposite"
      ]
    },
    {
      "cell_type": "markdown",
      "metadata": {
        "id": "zcVTxj4SogrY"
      },
      "source": [
        "---\n",
        "## 🎉 Great Job!\n",
        "\n",
        "You have learned the basics of Python variables, math, text, and true/false values.\n",
        "\n",
        "In the next lesson, we'll explore **type_conversion**\n",
        "\n",
        "➡️ **Next: Day 2 - type_conversion**"
      ]
    }
  ],
  "metadata": {
    "kernelspec": {
      "display_name": "Python 3",
      "language": "python",
      "name": "python3"
    },
    "language_info": {
      "name": "python",
      "version": "3.10"
    },
    "colab": {
      "provenance": []
    }
  },
  "nbformat": 4,
  "nbformat_minor": 0
}