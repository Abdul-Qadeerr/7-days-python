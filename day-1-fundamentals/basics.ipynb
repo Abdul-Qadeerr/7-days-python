{
 "cells": [
  {
   "cell_type": "markdown",
   "metadata": {},
   "source": [
    "# 🐍 Python Basics - Day 1\n",
    "\n",
    "This notebook explains the basic building blocks of Python programming.\n",
    "\n",
    "**Topics Covered:**\n",
    "- Variables and Data Types\n",
    "- Arithmetic Operations\n",
    "- String Operations\n",
    "- Boolean Values\n"
   ]
  },
  {
   "cell_type": "code",
   "execution_count": 1,
   "metadata": {},
   "outputs": [],
   "source": [
    "# Let's begin with a simple message\n",
    "print(\"Welcome to Python Basics! 🚀\\n\")"
   ]
  },
  {
   "cell_type": "markdown",
   "metadata": {},
   "source": [
    "## 1. 📦 Variables and Data Types\n",
    "\n",
    "Variables are used to store information like text, numbers, or yes/no (true/false)."
   ]
  },
  {
   "cell_type": "code",
   "execution_count": 2,
   "metadata": {},
   "outputs": [],
   "source": [
    "name = \"Qadeer\"        # text (string)\n",
    "age = 20               # whole number (integer)\n",
    "height = 5.7           # decimal number (float)\n",
    "is_student = True      # true or false (boolean)"
   ]
  },
  {
   "cell_type": "code",
   "execution_count": 3,
   "metadata": {},
   "outputs": [],
   "source": [
    "print(\"Name:\", name)\n",
    "print(\"Age:\", age)\n",
    "print(\"Height:\", height)\n",
    "print(\"Is Student:\", is_student)"
   ]
  },
  {
   "cell_type": "markdown",
   "metadata": {},
   "source": [
    "## 2. ➕ Arithmetic Operations\n",
    "\n",
    "We can do basic math using Python."
   ]
  },
  {
   "cell_type": "code",
   "execution_count": 4,
   "metadata": {},
   "outputs": [],
   "source": [
    "a = 10\n",
    "b = 3"
   ]
  },
  {
   "cell_type": "code",
   "execution_count": 5,
   "metadata": {},
   "outputs": [],
   "source": [
    "print(\"a + b =\", a + b)  # Add\n",
    "print(\"a - b =\", a - b)  # Subtract\n",
    "print(\"a * b =\", a * b)  # Multiply\n",
    "print(\"a / b =\", a / b)  # Divide (decimal)\n",
    "print(\"a % b =\", a % b)  # Remainder\n",
    "print(\"a ** b =\", a ** b) # Power"
   ]
  },
  {
   "cell_type": "markdown",
   "metadata": {},
   "source": [
    "## 3. 🔤 String (Text) Operations\n",
    "\n",
    "We can join, change, and check text values."
   ]
  },
  {
   "cell_type": "code",
   "execution_count": 6,
   "metadata": {},
   "outputs": [],
   "source": [
    "first_name = \"Sagar\"\n",
    "last_name = \"Ali\"\n",
    "full_name = first_name + \" \" + last_name"
   ]
  },
  {
   "cell_type": "code",
   "execution_count": 7,
   "metadata": {},
   "outputs": [],
   "source": [
    "print(\"Full Name:\", full_name)\n",
    "print(\"Uppercase:\", full_name.upper())\n",
    "print(\"Length of name:\", len(full_name))"
   ]
  },
  {
   "cell_type": "markdown",
   "metadata": {},
   "source": [
    "## 4. ✅ Boolean (True/False)\n",
    "\n",
    "Used when we want to check yes/no values."
   ]
  },
  {
   "cell_type": "code",
   "execution_count": 8,
   "metadata": {},
   "outputs": [],
   "source": [
    "is_smart = True\n",
    "is_lazy = False"
   ]
  },
  {
   "cell_type": "code",
   "execution_count": 9,
   "metadata": {},
   "outputs": [],
   "source": [
    "print(\"Smart and Lazy:\", is_smart and is_lazy)  # Both True?\n",
    "print(\"Smart or Lazy:\", is_smart or is_lazy)    # Any one True?\n",
    "print(\"Not Smart:\", not is_smart)              # Opposite"
   ]
  },
  {
   "cell_type": "markdown",
   "metadata": {},
   "source": [
    "---\n",
    "## 🎉 Great Job!\n",
    "\n",
    "You have learned the basics of Python variables, math, text, and true/false values.\n",
    "\n",
    "In the next lesson, we'll explore **type_conversion**\n",
    "\n",
    "➡️ **Next: Day 2 - type_conversion**"
   ]
  }
 ],
 "metadata": {
  "kernelspec": {
   "display_name": "Python 3",
   "language": "python",
   "name": "python3"
  },
  "language_info": {
   "name": "python",
   "version": "3.10"
  }
 },
 "nbformat": 4,
 "nbformat_minor": 2
}
