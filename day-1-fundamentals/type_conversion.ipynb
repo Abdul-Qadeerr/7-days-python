{
  "cells": [
    {
      "cell_type": "markdown",
      "metadata": {
        "id": "Jng3mloxrke8"
      },
      "source": [
        "# Type Conversion Practice\n",
        "This notebook demonstrates how to perform type conversions in Python."
      ]
    },
    {
      "cell_type": "code",
      "execution_count": 7,
      "metadata": {
        "id": "DcXKuKdwrke9",
        "outputId": "deda1b47-29f7-4317-ad3a-bf539ffb019c",
        "colab": {
          "base_uri": "https://localhost:8080/"
        }
      },
      "outputs": [
        {
          "output_type": "stream",
          "name": "stdout",
          "text": [
            "=== Type Conversion Practice ===\n",
            "\n",
            "1. STRING TO NUMBER CONVERSION\n",
            "String '123' to integer: 123 (Type: <class 'int'>)\n",
            "String '45.67' to float: 45.67 (Type: <class 'float'>)\n",
            "\n"
          ]
        }
      ],
      "source": [
        "print(\"=== Type Conversion Practice ===\\n\")\n",
        "\n",
        "# 1. String to Number Conversion\n",
        "print(\"1. STRING TO NUMBER CONVERSION\")\n",
        "number_str = \"123\"\n",
        "float_str = \"45.67\"\n",
        "\n",
        "# Convert to integer\n",
        "number_int = int(number_str)\n",
        "print(f\"String '{number_str}' to integer: {number_int} (Type: {type(number_int)})\")\n",
        "\n",
        "# Convert to float\n",
        "number_float = float(float_str)\n",
        "print(f\"String '{float_str}' to float: {number_float} (Type: {type(number_float)})\")\n",
        "print()"
      ]
    },
    {
      "cell_type": "code",
      "execution_count": 9,
      "metadata": {
        "id": "GsN3pZhxrke-",
        "outputId": "ebd8201f-a184-4c9b-df5a-d3d908b9cd69",
        "colab": {
          "base_uri": "https://localhost:8080/"
        }
      },
      "outputs": [
        {
          "output_type": "stream",
          "name": "stdout",
          "text": [
            "2. NUMBER TO STRING CONVERSION\n",
            "Integer 25 to string: '25' (Type: <class 'str'>)\n",
            "Float 50000.5 to string: '50000.5' (Type: <class 'str'>)\n",
            "\n"
          ]
        }
      ],
      "source": [
        "# 2. NUMBER TO STRING CONVERSION\n",
        "print(\"2. NUMBER TO STRING CONVERSION\")\n",
        "age = 25\n",
        "salary = 50000.50\n",
        "\n",
        "age_str = str(age)\n",
        "salary_str = str(salary)\n",
        "print(f\"Integer {age} to string: '{age_str}' (Type: {type(age_str)})\")\n",
        "print(f\"Float {salary} to string: '{salary_str}' (Type: {type(salary_str)})\")\n",
        "print()"
      ]
    },
    {
      "cell_type": "code",
      "execution_count": 8,
      "metadata": {
        "id": "7lyEj8cSrke-",
        "outputId": "24b12ae8-e010-4d81-ced2-ccea26182338",
        "colab": {
          "base_uri": "https://localhost:8080/"
        }
      },
      "outputs": [
        {
          "output_type": "stream",
          "name": "stdout",
          "text": [
            "3. MIXED TYPE OPERATIONS\n",
            "'10' + 5 = 15\n",
            "\n"
          ]
        }
      ],
      "source": [
        "# 3. MIXED TYPE OPERATIONS\n",
        "print(\"3. MIXED TYPE OPERATIONS\")\n",
        "num_str = \"10\"\n",
        "num_int = 5\n",
        "\n",
        "# result = num_str + num_int  # TypeError (wrong way)\n",
        "\n",
        "# Right way - convert first\n",
        "result = int(num_str) + num_int\n",
        "print(f\"'{num_str}' + {num_int} = {result}\")\n",
        "print()"
      ]
    },
    {
      "cell_type": "code",
      "execution_count": 10,
      "metadata": {
        "id": "497-yjlvrke-",
        "outputId": "e7cd2fde-aece-4a57-9347-58239741da15",
        "colab": {
          "base_uri": "https://localhost:8080/"
        }
      },
      "outputs": [
        {
          "output_type": "stream",
          "name": "stdout",
          "text": [
            "4. BOOLEAN CONVERSION\n",
            "bool(0): False\n",
            "bool(1): True\n",
            "bool(-1): True\n",
            "bool('Hello'): True\n",
            "bool(''): False\n",
            "bool([]): False\n",
            "\n"
          ]
        }
      ],
      "source": [
        "# 4. BOOLEAN CONVERSION\n",
        "print(\"4. BOOLEAN CONVERSION\")\n",
        "print(f\"bool(0): {bool(0)}\")\n",
        "print(f\"bool(1): {bool(1)}\")\n",
        "print(f\"bool(-1): {bool(-1)}\")\n",
        "print(f\"bool('Hello'): {bool('Hello')}\")\n",
        "print(f\"bool(''): {bool('')}\")\n",
        "print(f\"bool([]): {bool([])}\")\n",
        "print()"
      ]
    },
    {
      "cell_type": "code",
      "execution_count": 11,
      "metadata": {
        "id": "1f5EyOWNrke-",
        "outputId": "674a6b46-1d9b-4f73-d7e7-af3377c5da46",
        "colab": {
          "base_uri": "https://localhost:8080/"
        }
      },
      "outputs": [
        {
          "output_type": "stream",
          "name": "stdout",
          "text": [
            "5. PRACTICAL EXAMPLE - CALCULATOR INPUT\n",
            "Enter first number: 3\n",
            "Enter second number: 4\n",
            "3.0 + 4.0 = 7.0\n",
            "\n",
            "=== Type Conversion Practice Complete ===\n"
          ]
        }
      ],
      "source": [
        "# 5. PRACTICAL EXAMPLE - CALCULATOR INPUT\n",
        "print(\"5. PRACTICAL EXAMPLE - CALCULATOR INPUT\")\n",
        "input1 = input(\"Enter first number: \")\n",
        "input2 = input(\"Enter second number: \")\n",
        "\n",
        "num1 = float(input1)\n",
        "num2 = float(input2)\n",
        "\n",
        "sum_result = num1 + num2\n",
        "print(f\"{num1} + {num2} = {sum_result}\")\n",
        "print()\n",
        "print(\"=== Type Conversion Practice Complete ===\")"
      ]
    }
  ],
  "metadata": {
    "kernelspec": {
      "display_name": "Python 3",
      "language": "python",
      "name": "python3"
    },
    "language_info": {
      "name": "python",
      "version": "3.10"
    },
    "colab": {
      "provenance": []
    }
  },
  "nbformat": 4,
  "nbformat_minor": 0
}