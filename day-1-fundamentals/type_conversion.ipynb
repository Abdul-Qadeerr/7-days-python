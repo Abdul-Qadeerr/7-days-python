{
 "cells": [
  {
   "cell_type": "markdown",
   "metadata": {},
   "source": [
    "# Type Conversion Practice\n",
    "This notebook demonstrates how to perform type conversions in Python."
   ]
  },
  {
   "cell_type": "code",
   "execution_count": null,
   "metadata": {},
   "outputs": [],
   "source": [
    "print(\"=== Type Conversion Practice ===\\n\")\n",
    "\n",
    "# 1. String to Number Conversion\n",
    "print(\"1. STRING TO NUMBER CONVERSION\")\n",
    "number_str = \"123\"\n",
    "float_str = \"45.67\"\n",
    "\n",
    "# Convert to integer\n",
    "number_int = int(number_str)\n",
    "print(f\"String '{number_str}' to integer: {number_int} (Type: {type(number_int)})\")\n",
    "\n",
    "# Convert to float\n",
    "number_float = float(float_str)\n",
    "print(f\"String '{float_str}' to float: {number_float} (Type: {type(number_float)})\")\n",
    "print()"
   ]
  },
  {
   "cell_type": "code",
   "execution_count": null,
   "metadata": {},
   "outputs": [],
   "source": [
    "# 2. NUMBER TO STRING CONVERSION\n",
    "print(\"2. NUMBER TO STRING CONVERSION\")\n",
    "age = 25\n",
    "salary = 50000.50\n",
    "\n",
    "age_str = str(age)\n",
    "salary_str = str(salary)\n",
    "print(f\"Integer {age} to string: '{age_str}' (Type: {type(age_str)})\")\n",
    "print(f\"Float {salary} to string: '{salary_str}' (Type: {type(salary_str)})\")\n",
    "print()"
   ]
  },
  {
   "cell_type": "code",
   "execution_count": null,
   "metadata": {},
   "outputs": [],
   "source": [
    "# 3. MIXED TYPE OPERATIONS\n",
    "print(\"3. MIXED TYPE OPERATIONS\")\n",
    "num_str = \"10\"\n",
    "num_int = 5\n",
    "\n",
    "# result = num_str + num_int  # TypeError (wrong way)\n",
    "\n",
    "# Right way - convert first\n",
    "result = int(num_str) + num_int\n",
    "print(f\"'{num_str}' + {num_int} = {result}\")\n",
    "print()"
   ]
  },
  {
   "cell_type": "code",
   "execution_count": null,
   "metadata": {},
   "outputs": [],
   "source": [
    "# 4. BOOLEAN CONVERSION\n",
    "print(\"4. BOOLEAN CONVERSION\")\n",
    "print(f\"bool(0): {bool(0)}\")\n",
    "print(f\"bool(1): {bool(1)}\")\n",
    "print(f\"bool(-1): {bool(-1)}\")\n",
    "print(f\"bool('Hello'): {bool('Hello')}\")\n",
    "print(f\"bool(''): {bool('')}\")\n",
    "print(f\"bool([]): {bool([])}\")\n",
    "print()"
   ]
  },
  {
   "cell_type": "code",
   "execution_count": null,
   "metadata": {},
   "outputs": [],
   "source": [
    "# 5. PRACTICAL EXAMPLE - CALCULATOR INPUT\n",
    "print(\"5. PRACTICAL EXAMPLE - CALCULATOR INPUT\")\n",
    "input1 = input(\"Enter first number: \")\n",
    "input2 = input(\"Enter second number: \")\n",
    "\n",
    "num1 = float(input1)\n",
    "num2 = float(input2)\n",
    "\n",
    "sum_result = num1 + num2\n",
    "print(f\"{num1} + {num2} = {sum_result}\")\n",
    "print()\n",
    "print(\"=== Type Conversion Practice Complete ===\")"
   ]
  }
 ],
 "metadata": {
  "kernelspec": {
   "display_name": "Python 3",
   "language": "python",
   "name": "python3"
  },
  "language_info": {
   "name": "python",
   "version": "3.10"
  }
 },
 "nbformat": 4,
 "nbformat_minor": 2
}
