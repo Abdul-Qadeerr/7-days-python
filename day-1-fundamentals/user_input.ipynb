{
 "cells": [
  {
   "cell_type": "markdown",
   "source": [
    "# User Input and Output Examples"
   ],
   "metadata": {}
  },
  {
   "cell_type": "code",
   "source": [
    "print(\"=== User Input and Output Examples ===\\n\")\n",
    "print(\"1. BASIC INPUT\")\n",
    "# Simulated input\n",
    "name = \"Ali\"\n",
    "age = \"22\"\n",
    "print(f\"Hello {name}! You are {age} years old.\")"
   ],
   "execution_count": null,
   "outputs": []
  },
  {
   "cell_type": "code",
   "source": [
    "print(\"2. MULTIPLE INPUTS\")\n",
    "# Simulated input\n",
    "data = \"Sara 30\"\n",
    "name, age = data.split()\n",
    "print(f\"Name: {name}, Age: {age}\")"
   ],
   "execution_count": null,
   "outputs": []
  },
  {
   "cell_type": "code",
   "source": [
    "print(\"3. NUMBER INPUT VALIDATION\")\n",
    "try:\n",
    "    num1 = float(\"6.5\")\n",
    "    num2 = float(\"2\")\n",
    "    product = num1 * num2\n",
    "    print(f\"The product of {num1} and {num2} is {product}\")\n",
    "except ValueError:\n",
    "    print(\"Error: Please enter valid numbers!\")"
   ],
   "execution_count": null,
   "outputs": []
  },
  {
   "cell_type": "code",
   "source": [
    "print(\"4. FORMATTED OUTPUT\")\n",
    "# Simulated input\n",
    "name = \"Ali\"\n",
    "age = \"22\"\n",
    "city = \"Lahore\"\n",
    "state = \"Punjab\"\n",
    "country = \"Pakistan\"\n",
    "print(f\"\\n=== USER PROFILE ===\")\n",
    "print(f\"Name: {name}\")\n",
    "print(f\"Age: {age}\")\n",
    "print(f\"Location: {city}, {state}, {country}\")\n",
    "print(f\"Profile: {age}-year-old from {city}, {state}\")"
   ],
   "execution_count": null,
   "outputs": []
  },
  {
   "cell_type": "code",
   "source": [
    "print(\"5. REGISTRATION FORM\")\n",
    "print(\"Please complete your registration:\")\n",
    "print(\"-\" * 30)\n",
    "# Simulated input\n",
    "username = \"malik123\"\n",
    "email = \"malik@example.com\"\n",
    "password = \"mypassword\"\n",
    "phone = \"03001234567\"\n",
    "print(\"\\n=== REGISTRATION SUMMARY ===\")\n",
    "print(f\"Username: {username}\")\n",
    "print(f\"Email: {email}\")\n",
    "print(f\"Password: {'*' * len(password)}\")\n",
    "print(f\"Phone: {phone}\")\n",
    "print(\"Registration successful! ✅\")"
   ],
   "execution_count": null,
   "outputs": []
  },
  {
   "cell_type": "code",
   "source": [
    "print(\"=== Input/Output Practice Complete ===\")"
   ],
   "execution_count": null,
   "outputs": []
  }
 ],
 "metadata": {
  "kernelspec": {
   "name": "python3",
   "display_name": "Python 3"
  },
  "language_info": {
   "name": "python",
   "version": ""
  }
 },
 "nbformat": 4,
 "nbformat_minor": 2
}
