{
 "cells": [
  {
   "cell_type": "markdown",
   "metadata": {},
   "source": [
    "# User Input and Output Examples"
   ]
  },
  {
   "cell_type": "code",
   "execution_count": null,
   "metadata": {},
   "outputs": [],
   "source": [
    "print(\"=== User Input and Output Examples ===\\n\")\n",
    "print(\"1. BASIC INPUT\")\n",
    "name = input(\"Please enter your name: \")\n",
    "age = input(\"Please enter your age: \")\n",
    "print(f\"Hello {name}! You are {age} years old.\")"
   ]
  },
  {
   "cell_type": "code",
   "execution_count": null,
   "metadata": {},
   "outputs": [],
   "source": [
    "print(\"2. MULTIPLE INPUTS\")\n",
    "data = input(\"Enter your name and age separated by space: \")\n",
    "name, age = data.split()\n",
    "print(f\"Name: {name}, Age: {age}\")"
   ]
  },
  {
   "cell_type": "code",
   "execution_count": null,
   "metadata": {},
   "outputs": [],
   "source": [
    "print(\"3. NUMBER INPUT VALIDATION\")\n",
    "try:\n",
    "    num1 = float(input(\"Enter a number: \"))\n",
    "    num2 = float(input(\"Enter another number: \"))\n",
    "    product = num1 * num2\n",
    "    print(f\"The product of {num1} and {num2} is {product}\")\n",
    "except ValueError:\n",
    "    print(\"Error: Please enter valid numbers!\")"
   ]
  },
  {
   "cell_type": "code",
   "execution_count": null,
   "metadata": {},
   "outputs": [],
   "source": [
    "print(\"4. FORMATTED OUTPUT\")\n",
    "city = input(\"Enter your city: \")\n",
    "state = input(\"Enter your state: \")\n",
    "country = \"India\"\n",
    "print(f\"\\n=== USER PROFILE ===\")\n",
    "print(f\"Name: {name}\")\n",
    "print(f\"Age: {age}\")\n",
    "print(f\"Location: {city}, {state}, {country}\")\n",
    "print(f\"Profile: {age}-year-old from {city}, {state}\")"
   ]
  },
  {
   "cell_type": "code",
   "execution_count": null,
   "metadata": {},
   "outputs": [],
   "source": [
    "print(\"5. REGISTRATION FORM\")\n",
    "print(\"Please complete your registration:\")\n",
    "print(\"-\" * 30)\n",
    "username = input(\"Choose a username: \")\n",
    "email = input(\"Enter your email: \")\n",
    "password = input(\"Create a password: \")\n",
    "phone = input(\"Enter your phone number: \")\n",
    "print(\"\\n=== REGISTRATION SUMMARY ===\")\n",
    "print(f\"Username: {username}\")\n",
    "print(f\"Email: {email}\")\n",
    "print(f\"Password: {'*' * len(password)}\")\n",
    "print(f\"Phone: {phone}\")\n",
    "print(\"Registration successful! ✅\")"
   ]
  },
  {
   "cell_type": "code",
   "execution_count": null,
   "metadata": {},
   "outputs": [],
   "source": [
    "print(\"=== Input/Output Practice Complete ===\")"
   ]
  }
 ],
 "metadata": {
  "kernelspec": {
   "display_name": "Python 3",
   "language": "python",
   "name": "python3"
  },
  "language_info": {
   "name": "python",
   "version": "3.x"
  }
 },
 "nbformat": 4,
 "nbformat_minor": 2
}
