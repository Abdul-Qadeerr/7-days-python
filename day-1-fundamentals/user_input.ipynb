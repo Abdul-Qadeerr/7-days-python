{
  "cells": [
    {
      "cell_type": "markdown",
      "metadata": {
        "id": "3zSjhNLHrZJ1"
      },
      "source": [
        "# User Input and Output Examples"
      ]
    },
    {
      "cell_type": "code",
      "execution_count": 1,
      "metadata": {
        "id": "cpmTkA4UrZJ2",
        "outputId": "6525f447-cdda-4898-86db-6860cdfc3e6f",
        "colab": {
          "base_uri": "https://localhost:8080/"
        }
      },
      "outputs": [
        {
          "output_type": "stream",
          "name": "stdout",
          "text": [
            "=== User Input and Output Examples ===\n",
            "\n",
            "1. BASIC INPUT\n",
            "Please enter your name: Abeer Qadeer\n",
            "Please enter your age: 12\n",
            "Hello Abeer Qadeer! You are 12 years old.\n"
          ]
        }
      ],
      "source": [
        "print(\"=== User Input and Output Examples ===\\n\")\n",
        "print(\"1. BASIC INPUT\")\n",
        "name = input(\"Please enter your name: \")\n",
        "age = input(\"Please enter your age: \")\n",
        "print(f\"Hello {name}! You are {age} years old.\")"
      ]
    },
    {
      "cell_type": "code",
      "execution_count": 2,
      "metadata": {
        "id": "v79gGO2IrZJ2",
        "outputId": "fac4268b-7dd6-4330-cfae-44be4c571145",
        "colab": {
          "base_uri": "https://localhost:8080/"
        }
      },
      "outputs": [
        {
          "output_type": "stream",
          "name": "stdout",
          "text": [
            "2. MULTIPLE INPUTS\n",
            "Enter your name and age separated by space: Abeer 12\n",
            "Name: Abeer, Age: 12\n"
          ]
        }
      ],
      "source": [
        "print(\"2. MULTIPLE INPUTS\")\n",
        "data = input(\"Enter your name and age separated by space: \")\n",
        "name, age = data.split()\n",
        "print(f\"Name: {name}, Age: {age}\")"
      ]
    },
    {
      "cell_type": "code",
      "execution_count": 3,
      "metadata": {
        "id": "lVm1v34PrZJ3",
        "outputId": "59d5f527-e304-4469-8a57-a15b7630af02",
        "colab": {
          "base_uri": "https://localhost:8080/"
        }
      },
      "outputs": [
        {
          "output_type": "stream",
          "name": "stdout",
          "text": [
            "3. NUMBER INPUT VALIDATION\n",
            "Enter a number: 5\n",
            "Enter another number: 6\n",
            "The product of 5.0 and 6.0 is 30.0\n"
          ]
        }
      ],
      "source": [
        "print(\"3. NUMBER INPUT VALIDATION\")\n",
        "try:\n",
        "    num1 = float(input(\"Enter a number: \"))\n",
        "    num2 = float(input(\"Enter another number: \"))\n",
        "    product = num1 * num2\n",
        "    print(f\"The product of {num1} and {num2} is {product}\")\n",
        "except ValueError:\n",
        "    print(\"Error: Please enter valid numbers!\")"
      ]
    },
    {
      "cell_type": "code",
      "execution_count": 4,
      "metadata": {
        "id": "5i-hiAXZrZJ3",
        "outputId": "6385a36a-40a1-4955-b1e4-fe8aab1df159",
        "colab": {
          "base_uri": "https://localhost:8080/"
        }
      },
      "outputs": [
        {
          "output_type": "stream",
          "name": "stdout",
          "text": [
            "4. FORMATTED OUTPUT\n",
            "Enter your city: Kandhkot\n",
            "Enter your state: idk\n",
            "\n",
            "=== USER PROFILE ===\n",
            "Name: Abeer\n",
            "Age: 12\n",
            "Location: Kandhkot, idk, India\n",
            "Profile: 12-year-old from Kandhkot, idk\n"
          ]
        }
      ],
      "source": [
        "print(\"4. FORMATTED OUTPUT\")\n",
        "city = input(\"Enter your city: \")\n",
        "state = input(\"Enter your state: \")\n",
        "country = \"India\"\n",
        "print(f\"\\n=== USER PROFILE ===\")\n",
        "print(f\"Name: {name}\")\n",
        "print(f\"Age: {age}\")\n",
        "print(f\"Location: {city}, {state}, {country}\")\n",
        "print(f\"Profile: {age}-year-old from {city}, {state}\")"
      ]
    },
    {
      "cell_type": "code",
      "execution_count": 5,
      "metadata": {
        "id": "cjZZI669rZJ3",
        "outputId": "f29c5164-85c0-4a26-c4b9-ee66f10ffced",
        "colab": {
          "base_uri": "https://localhost:8080/"
        }
      },
      "outputs": [
        {
          "output_type": "stream",
          "name": "stdout",
          "text": [
            "5. REGISTRATION FORM\n",
            "Please complete your registration:\n",
            "------------------------------\n",
            "Choose a username: abeerqadeer\n",
            "Enter your email: abeerqadeer@gmail.com\n",
            "Create a password: abeer12\n",
            "Enter your phone number: 03367303005\n",
            "\n",
            "=== REGISTRATION SUMMARY ===\n",
            "Username: abeerqadeer\n",
            "Email: abeerqadeer@gmail.com\n",
            "Password: *******\n",
            "Phone: 03367303005\n",
            "Registration successful! ✅\n"
          ]
        }
      ],
      "source": [
        "print(\"5. REGISTRATION FORM\")\n",
        "print(\"Please complete your registration:\")\n",
        "print(\"-\" * 30)\n",
        "username = input(\"Choose a username: \")\n",
        "email = input(\"Enter your email: \")\n",
        "password = input(\"Create a password: \")\n",
        "phone = input(\"Enter your phone number: \")\n",
        "print(\"\\n=== REGISTRATION SUMMARY ===\")\n",
        "print(f\"Username: {username}\")\n",
        "print(f\"Email: {email}\")\n",
        "print(f\"Password: {'*' * len(password)}\")\n",
        "print(f\"Phone: {phone}\")\n",
        "print(\"Registration successful! ✅\")"
      ]
    },
    {
      "cell_type": "code",
      "execution_count": 6,
      "metadata": {
        "id": "veNIjSVbrZJ4",
        "outputId": "889cbdd9-6397-47f4-b9bd-f0cb3d43e1c4",
        "colab": {
          "base_uri": "https://localhost:8080/"
        }
      },
      "outputs": [
        {
          "output_type": "stream",
          "name": "stdout",
          "text": [
            "=== Input/Output Practice Complete ===\n"
          ]
        }
      ],
      "source": [
        "print(\"=== Input/Output Practice Complete ===\")"
      ]
    }
  ],
  "metadata": {
    "kernelspec": {
      "display_name": "Python 3",
      "language": "python",
      "name": "python3"
    },
    "language_info": {
      "name": "python",
      "version": "3.x"
    },
    "colab": {
      "provenance": []
    }
  },
  "nbformat": 4,
  "nbformat_minor": 0
}