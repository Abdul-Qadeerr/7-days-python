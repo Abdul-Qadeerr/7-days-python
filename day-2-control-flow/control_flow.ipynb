{
  "cells": [
    {
      "cell_type": "markdown",
      "metadata": {
        "id": "mizRrZ9Ls5XY"
      },
      "source": [
        "# Day 2: Control Flow in Python – Practical Notebook\n",
        "Numbered examples with expected outputs for each control flow concept."
      ]
    },
    {
      "cell_type": "markdown",
      "metadata": {
        "id": "Bf7Kzhvhs5Xa"
      },
      "source": [
        "## 1. if Statement\n",
        "**Example:** Check if number is greater than 5"
      ]
    },
    {
      "cell_type": "code",
      "metadata": {
        "id": "5DbSHytis5Xb",
        "outputId": "e1627d8b-e124-48af-a4a4-4fbf90410bd6",
        "colab": {
          "base_uri": "https://localhost:8080/"
        }
      },
      "source": [
        "x = 7\n",
        "if x > 5:\n",
        "    print(\"x is greater than 5\")"
      ],
      "execution_count": 2,
      "outputs": [
        {
          "output_type": "stream",
          "name": "stdout",
          "text": [
            "x is greater than 5\n"
          ]
        }
      ]
    },
    {
      "cell_type": "markdown",
      "metadata": {
        "id": "P4rMhr7gs5Xc"
      },
      "source": [
        "## 2. if-else Statement\n",
        "**Example:** Check if number is even or odd"
      ]
    },
    {
      "cell_type": "code",
      "metadata": {
        "id": "bMqvFvUGs5Xc",
        "outputId": "de230c70-221c-497c-fd9c-0aed99a6aa2f",
        "colab": {
          "base_uri": "https://localhost:8080/"
        }
      },
      "source": [
        "x = 4\n",
        "if x % 2 == 0:\n",
        "    print(\"Even\")\n",
        "else:\n",
        "    print(\"Odd\")"
      ],
      "execution_count": 3,
      "outputs": [
        {
          "output_type": "stream",
          "name": "stdout",
          "text": [
            "Even\n"
          ]
        }
      ]
    },
    {
      "cell_type": "markdown",
      "metadata": {
        "id": "HOrawztxs5Xd"
      },
      "source": [
        "## 3. if-elif-else Statement\n",
        "**Example:** Assign grades based on score"
      ]
    },
    {
      "cell_type": "code",
      "metadata": {
        "id": "u85Wsj-0s5Xd",
        "outputId": "e5744e70-25d9-4a10-9ea1-a746fac8609e",
        "colab": {
          "base_uri": "https://localhost:8080/"
        }
      },
      "source": [
        "score = 85\n",
        "if score >= 90:\n",
        "    print(\"Grade: A\")\n",
        "elif score >= 80:\n",
        "    print(\"Grade: B\")\n",
        "elif score >= 70:\n",
        "    print(\"Grade: C\")\n",
        "else:\n",
        "    print(\"Grade: F\")"
      ],
      "execution_count": 4,
      "outputs": [
        {
          "output_type": "stream",
          "name": "stdout",
          "text": [
            "Grade: B\n"
          ]
        }
      ]
    },
    {
      "cell_type": "markdown",
      "metadata": {
        "id": "vNppay_as5Xe"
      },
      "source": [
        "## 4. Logical Operators\n",
        "**Example:** Check if person is adult and has ID"
      ]
    },
    {
      "cell_type": "code",
      "metadata": {
        "id": "o_irEk4rs5Xe",
        "outputId": "ac7c77a7-e371-4f49-c24e-689bf66e0425",
        "colab": {
          "base_uri": "https://localhost:8080/"
        }
      },
      "source": [
        "age = 19\n",
        "has_id = True\n",
        "\n",
        "if age >= 18 and has_id:\n",
        "    print(\"Access granted\")\n",
        "else:\n",
        "    print(\"Access denied\")"
      ],
      "execution_count": 6,
      "outputs": [
        {
          "output_type": "stream",
          "name": "stdout",
          "text": [
            "Access granted\n"
          ]
        }
      ]
    },
    {
      "cell_type": "markdown",
      "metadata": {
        "id": "yBRQEe2Ys5Xf"
      },
      "source": [
        "## 5. Nested if Statement\n",
        "**Example:** Check if number is positive and less than 10"
      ]
    },
    {
      "cell_type": "code",
      "metadata": {
        "id": "rQKngIFbs5Xf",
        "outputId": "b10c9448-96d1-4e0f-a67d-bad3f11e3eb0",
        "colab": {
          "base_uri": "https://localhost:8080/"
        }
      },
      "source": [
        "x = 6\n",
        "if x > 0:\n",
        "    if x < 10:\n",
        "        print(\"x is between 1 and 9\")"
      ],
      "execution_count": 7,
      "outputs": [
        {
          "output_type": "stream",
          "name": "stdout",
          "text": [
            "x is between 1 and 9\n"
          ]
        }
      ]
    },
    {
      "cell_type": "markdown",
      "metadata": {
        "id": "30GwVQ1Ws5Xf"
      },
      "source": [
        "## 6. Ternary Operator\n",
        "**Example:** Check if a number is even or odd using one-liner"
      ]
    },
    {
      "cell_type": "code",
      "metadata": {
        "id": "drjXc9Bds5Xf",
        "outputId": "24ff41dc-0e6d-4116-ba20-62d2a7c231f7",
        "colab": {
          "base_uri": "https://localhost:8080/"
        }
      },
      "source": [
        "num = 11\n",
        "result = \"Even\" if num % 2 == 0 else \"Odd\"\n",
        "print(result)"
      ],
      "execution_count": 8,
      "outputs": [
        {
          "output_type": "stream",
          "name": "stdout",
          "text": [
            "Odd\n"
          ]
        }
      ]
    }
  ],
  "metadata": {
    "kernelspec": {
      "display_name": "Python 3",
      "language": "python",
      "name": "python3"
    },
    "language_info": {
      "name": "python"
    },
    "colab": {
      "provenance": []
    }
  },
  "nbformat": 4,
  "nbformat_minor": 0
}