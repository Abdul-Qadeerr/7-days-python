{
 "cells": [
  {
   "cell_type": "markdown",
   "metadata": {},
   "source": [
    "# Day 2: Control Flow in Python – Practical Notebook\n",
    "Numbered examples with expected outputs for each control flow concept."
   ]
  },
  {
   "cell_type": "markdown",
   "metadata": {},
   "source": [
    "## 1. if Statement\n",
    "**Example:** Check if number is greater than 5"
   ]
  },
  {
   "cell_type": "code",
   "metadata": {},
   "source": [
    "x = 7\n",
    "if x > 5:\n",
    "    print(\"x is greater than 5\")"
   ],
   "execution_count": null,
   "outputs": []
  },
  {
   "cell_type": "markdown",
   "metadata": {},
   "source": [
    "**Expected Output:**\n",
    "```\n",
    "x is greater than 5\n",
    "```"
   ]
  },
  {
   "cell_type": "markdown",
   "metadata": {},
   "source": [
    "## 2. if-else Statement\n",
    "**Example:** Check if number is even or odd"
   ]
  },
  {
   "cell_type": "code",
   "metadata": {},
   "source": [
    "x = 4\n",
    "if x % 2 == 0:\n",
    "    print(\"Even\")\n",
    "else:\n",
    "    print(\"Odd\")"
   ],
   "execution_count": null,
   "outputs": []
  },
  {
   "cell_type": "markdown",
   "metadata": {},
   "source": [
    "**Expected Output:**\n",
    "```\n",
    "Even\n",
    "```"
   ]
  },
  {
   "cell_type": "markdown",
   "metadata": {},
   "source": [
    "## 3. if-elif-else Statement\n",
    "**Example:** Assign grades based on score"
   ]
  },
  {
   "cell_type": "code",
   "metadata": {},
   "source": [
    "score = 85\n",
    "if score >= 90:\n",
    "    print(\"Grade: A\")\n",
    "elif score >= 80:\n",
    "    print(\"Grade: B\")\n",
    "elif score >= 70:\n",
    "    print(\"Grade: C\")\n",
    "else:\n",
    "    print(\"Grade: F\")"
   ],
   "execution_count": null,
   "outputs": []
  },
  {
   "cell_type": "markdown",
   "metadata": {},
   "source": [
    "**Expected Output:**\n",
    "```\n",
    "Grade: B\n",
    "```"
   ]
  },
  {
   "cell_type": "markdown",
   "metadata": {},
   "source": [
    "## 4. Logical Operators\n",
    "**Example:** Check if person is adult and has ID"
   ]
  },
  {
   "cell_type": "code",
   "metadata": {},
   "source": [
    "age = 19\n",
    "has_id = True\n",
    "\n",
    "if age >= 18 and has_id:\n",
    "    print(\"Access granted\")\n",
    "else:\n",
    "    print(\"Access denied\")"
   ],
   "execution_count": null,
   "outputs": []
  },
  {
   "cell_type": "markdown",
   "metadata": {},
   "source": [
    "**Expected Output:**\n",
    "```\n",
    "Access granted\n",
    "```"
   ]
  },
  {
   "cell_type": "markdown",
   "metadata": {},
   "source": [
    "## 5. Nested if Statement\n",
    "**Example:** Check if number is positive and less than 10"
   ]
  },
  {
   "cell_type": "code",
   "metadata": {},
   "source": [
    "x = 6\n",
    "if x > 0:\n",
    "    if x < 10:\n",
    "        print(\"x is between 1 and 9\")"
   ],
   "execution_count": null,
   "outputs": []
  },
  {
   "cell_type": "markdown",
   "metadata": {},
   "source": [
    "**Expected Output:**\n",
    "```\n",
    "x is between 1 and 9\n",
    "```"
   ]
  },
  {
   "cell_type": "markdown",
   "metadata": {},
   "source": [
    "## 6. Ternary Operator\n",
    "**Example:** Check if a number is even or odd using one-liner"
   ]
  },
  {
   "cell_type": "code",
   "metadata": {},
   "source": [
    "num = 11\n",
    "result = \"Even\" if num % 2 == 0 else \"Odd\"\n",
    "print(result)"
   ],
   "execution_count": null,
   "outputs": []
  },
  {
   "cell_type": "markdown",
   "metadata": {},
   "source": [
    "**Expected Output:**\n",
    "```\n",
    "Odd\n",
    "```"
   ]
  }
 ],
 "metadata": {
  "kernelspec": {
   "display_name": "Python 3",
   "language": "python",
   "name": "python3"
  },
  "language_info": {
   "name": "python"
  }
 },
 "nbformat": 4,
 "nbformat_minor": 2
}
