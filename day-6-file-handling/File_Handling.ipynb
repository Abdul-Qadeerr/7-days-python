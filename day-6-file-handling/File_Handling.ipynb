{
  "cells": [
    {
      "cell_type": "markdown",
      "metadata": {
        "id": "24AG6obvonAC"
      },
      "source": [
        "# 📘 File Handling in Python\n",
        "This notebook demonstrates file handling operations in Python."
      ],
      "id": "24AG6obvonAC"
    },
    {
      "cell_type": "markdown",
      "metadata": {
        "id": "MDhBk3c_onAD"
      },
      "source": [
        "## 1. Writing to a File"
      ],
      "id": "MDhBk3c_onAD"
    },
    {
      "cell_type": "code",
      "execution_count": 1,
      "metadata": {
        "id": "aKfaosgTonAD",
        "outputId": "f5b2a768-2459-46eb-e6a9-a2d957fad9af",
        "colab": {
          "base_uri": "https://localhost:8080/"
        }
      },
      "outputs": [
        {
          "output_type": "stream",
          "name": "stdout",
          "text": [
            "File written successfully.\n"
          ]
        }
      ],
      "source": [
        "# Writing to a file using 'w' mode (overwrites if file exists)\n",
        "with open(\"example.txt\", \"w\") as f:\n",
        "    f.write(\"Hello, Malik Qadeer!\\n\")\n",
        "    f.write(\"This is file handling in Python.\\n\")\n",
        "\n",
        "print(\"File written successfully.\")"
      ],
      "id": "aKfaosgTonAD"
    },
    {
      "cell_type": "markdown",
      "metadata": {
        "id": "DgO_JqPSonAE"
      },
      "source": [
        "## 2. Reading from a File"
      ],
      "id": "DgO_JqPSonAE"
    },
    {
      "cell_type": "code",
      "execution_count": 2,
      "metadata": {
        "id": "U0THZ5WwonAE",
        "outputId": "86716766-f7ce-426e-fe1c-e18c74b83bf1",
        "colab": {
          "base_uri": "https://localhost:8080/"
        }
      },
      "outputs": [
        {
          "output_type": "stream",
          "name": "stdout",
          "text": [
            "File Content:\n",
            " Hello, Malik Qadeer!\n",
            "This is file handling in Python.\n",
            "\n"
          ]
        }
      ],
      "source": [
        "# Reading the entire content\n",
        "with open(\"example.txt\", \"r\") as f:\n",
        "    content = f.read()\n",
        "\n",
        "print(\"File Content:\\n\", content)"
      ],
      "id": "U0THZ5WwonAE"
    },
    {
      "cell_type": "markdown",
      "metadata": {
        "id": "0AOY0PgHonAE"
      },
      "source": [
        "## 3. Appending to a File"
      ],
      "id": "0AOY0PgHonAE"
    },
    {
      "cell_type": "code",
      "execution_count": 7,
      "metadata": {
        "id": "t4v9ShGJonAE",
        "outputId": "3d733fd0-75ed-474c-bf5c-ee4d65dedc45",
        "colab": {
          "base_uri": "https://localhost:8080/"
        }
      },
      "outputs": [
        {
          "output_type": "stream",
          "name": "stdout",
          "text": [
            "New line appended.\n"
          ]
        }
      ],
      "source": [
        "# Appending new text using 'a' mode\n",
        "with open(\"example.txt\", \"a\") as f:\n",
        "    f.write(\"Now we are appending a new line.\\n\")\n",
        "\n",
        "print(\"New line appended.\")"
      ],
      "id": "t4v9ShGJonAE"
    },
    {
      "cell_type": "markdown",
      "metadata": {
        "id": "g2vzzyFeonAE"
      },
      "source": [
        "## 4. Reading Line by Line"
      ],
      "id": "g2vzzyFeonAE"
    },
    {
      "cell_type": "code",
      "execution_count": 6,
      "metadata": {
        "id": "sgewQJ5gonAE",
        "outputId": "1321be62-82dd-4249-e1b8-1940efa30f56",
        "colab": {
          "base_uri": "https://localhost:8080/"
        }
      },
      "outputs": [
        {
          "output_type": "stream",
          "name": "stdout",
          "text": [
            "Reading line by line:\n",
            "Hello, Malik Qadeer!\n",
            "This is file handling in Python.\n",
            "Now we are appending a new line.\n"
          ]
        }
      ],
      "source": [
        "# Reading line by line\n",
        "with open(\"example.txt\", \"r\") as f:\n",
        "    lines = f.readlines()\n",
        "\n",
        "print(\"Reading line by line:\")\n",
        "for line in lines:\n",
        "    print(line.strip())"
      ],
      "id": "sgewQJ5gonAE"
    },
    {
      "cell_type": "markdown",
      "metadata": {
        "id": "0lkFHVuzonAE"
      },
      "source": [
        "## 5. Using `tell()` and `seek()`"
      ],
      "id": "0lkFHVuzonAE"
    },
    {
      "cell_type": "code",
      "execution_count": 8,
      "metadata": {
        "id": "G3Nmp7OEonAF",
        "outputId": "ccf4947c-3fc6-469b-b637-db64df6cf8cd",
        "colab": {
          "base_uri": "https://localhost:8080/"
        }
      },
      "outputs": [
        {
          "output_type": "stream",
          "name": "stdout",
          "text": [
            "First 10 chars: Hello, Mal\n",
            "Position after reading: 10\n",
            "First 10 chars again: Hello, Mal\n"
          ]
        }
      ],
      "source": [
        "# Demonstrating tell() and seek()\n",
        "with open(\"example.txt\", \"r\") as f:\n",
        "    first10 = f.read(10)   # Read first 10 characters\n",
        "    pos = f.tell()         # Current position\n",
        "    f.seek(0)              # Move pointer back to start\n",
        "    restart_content = f.read(10)\n",
        "\n",
        "print(\"First 10 chars:\", first10)\n",
        "print(\"Position after reading:\", pos)\n",
        "print(\"First 10 chars again:\", restart_content)"
      ],
      "id": "G3Nmp7OEonAF"
    },
    {
      "cell_type": "markdown",
      "metadata": {
        "id": "r4m9a2V3onAF"
      },
      "source": [
        "## 6. Exception Handling in File Handling"
      ],
      "id": "r4m9a2V3onAF"
    },
    {
      "cell_type": "code",
      "execution_count": 9,
      "metadata": {
        "id": "L4FPsvgJonAF",
        "outputId": "fc782849-0325-4a66-89af-acea9babc23a",
        "colab": {
          "base_uri": "https://localhost:8080/"
        }
      },
      "outputs": [
        {
          "output_type": "stream",
          "name": "stdout",
          "text": [
            "Error: File does not exist!\n"
          ]
        }
      ],
      "source": [
        "# Handling errors when working with files\n",
        "try:\n",
        "    with open(\"nonexistent.txt\", \"r\") as f:\n",
        "        data = f.read()\n",
        "except FileNotFoundError:\n",
        "    print(\"Error: File does not exist!\")"
      ],
      "id": "L4FPsvgJonAF"
    }
  ],
  "metadata": {
    "kernelspec": {
      "display_name": "Python 3",
      "language": "python",
      "name": "python3"
    },
    "language_info": {
      "name": "python",
      "version": "3.10"
    },
    "colab": {
      "provenance": []
    }
  },
  "nbformat": 4,
  "nbformat_minor": 5
}