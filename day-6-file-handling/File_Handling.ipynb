{
 "cells": [
  {
   "cell_type": "markdown",
   "metadata": {},
   "source": [
    "# 📘 File Handling in Python\n",
    "This notebook demonstrates file handling operations in Python."
   ]
  },
  {
   "cell_type": "markdown",
   "metadata": {},
   "source": [
    "## 1. Writing to a File"
   ]
  },
  {
   "cell_type": "code",
   "execution_count": null,
   "metadata": {},
   "outputs": [],
   "source": [
    "# Writing to a file using 'w' mode (overwrites if file exists)\n",
    "with open(\"example.txt\", \"w\") as f:\n",
    "    f.write(\"Hello, Malik Qadeer!\\n\")\n",
    "    f.write(\"This is file handling in Python.\\n\")\n",
    "\n",
    "print(\"File written successfully.\")"
   ]
  },
  {
   "cell_type": "markdown",
   "metadata": {},
   "source": [
    "## 2. Reading from a File"
   ]
  },
  {
   "cell_type": "code",
   "execution_count": null,
   "metadata": {},
   "outputs": [],
   "source": [
    "# Reading the entire content\n",
    "with open(\"example.txt\", \"r\") as f:\n",
    "    content = f.read()\n",
    "\n",
    "print(\"File Content:\\n\", content)"
   ]
  },
  {
   "cell_type": "markdown",
   "metadata": {},
   "source": [
    "## 3. Appending to a File"
   ]
  },
  {
   "cell_type": "code",
   "execution_count": null,
   "metadata": {},
   "outputs": [],
   "source": [
    "# Appending new text using 'a' mode\n",
    "with open(\"example.txt\", \"a\") as f:\n",
    "    f.write(\"Now we are appending a new line.\\n\")\n",
    "\n",
    "print(\"New line appended.\")"
   ]
  },
  {
   "cell_type": "markdown",
   "metadata": {},
   "source": [
    "## 4. Reading Line by Line"
   ]
  },
  {
   "cell_type": "code",
   "execution_count": null,
   "metadata": {},
   "outputs": [],
   "source": [
    "# Reading line by line\n",
    "with open(\"example.txt\", \"r\") as f:\n",
    "    lines = f.readlines()\n",
    "\n",
    "print(\"Reading line by line:\")\n",
    "for line in lines:\n",
    "    print(line.strip())"
   ]
  },
  {
   "cell_type": "markdown",
   "metadata": {},
   "source": [
    "## 5. Using `tell()` and `seek()`"
   ]
  },
  {
   "cell_type": "code",
   "execution_count": null,
   "metadata": {},
   "outputs": [],
   "source": [
    "# Demonstrating tell() and seek()\n",
    "with open(\"example.txt\", \"r\") as f:\n",
    "    first10 = f.read(10)   # Read first 10 characters\n",
    "    pos = f.tell()         # Current position\n",
    "    f.seek(0)              # Move pointer back to start\n",
    "    restart_content = f.read(10)\n",
    "\n",
    "print(\"First 10 chars:\", first10)\n",
    "print(\"Position after reading:\", pos)\n",
    "print(\"First 10 chars again:\", restart_content)"
   ]
  },
  {
   "cell_type": "markdown",
   "metadata": {},
   "source": [
    "## 6. Exception Handling in File Handling"
   ]
  },
  {
   "cell_type": "code",
   "execution_count": null,
   "metadata": {},
   "outputs": [],
   "source": [
    "# Handling errors when working with files\n",
    "try:\n",
    "    with open(\"nonexistent.txt\", \"r\") as f:\n",
    "        data = f.read()\n",
    "except FileNotFoundError:\n",
    "    print(\"Error: File does not exist!\")"
   ]
  }
 ],
 "metadata": {
  "kernelspec": {
   "display_name": "Python 3",
   "language": "python",
   "name": "python3"
  },
  "language_info": {
   "name": "python",
   "version": "3.10"
  }
 },
 "nbformat": 4,
 "nbformat_minor": 5
}
