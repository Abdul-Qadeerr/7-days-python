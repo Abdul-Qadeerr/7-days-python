{
 "cells": [
  {
   "cell_type": "markdown",
   "metadata": {},
   "source": [
    "# 🔢 Advanced Calculator in Python\n",
    "This notebook implements an advanced calculator with multiple mathematical operations."
   ]
  },
  {
   "cell_type": "markdown",
   "metadata": {},
   "source": [
    "## 1. Import Required Libraries"
   ]
  },
  {
   "cell_type": "code",
   "execution_count": null,
   "metadata": {},
   "outputs": [],
   "source": [
    "import math"
   ]
  },
  {
   "cell_type": "markdown",
   "metadata": {},
   "source": [
    "## 2. Define Calculator Functions"
   ]
  },
  {
   "cell_type": "code",
   "execution_count": null,
   "metadata": {},
   "outputs": [],
   "source": [
    "def add(x, y):\n",
    "    return x + y\n",
    "\n",
    "def subtract(x, y):\n",
    "    return x - y\n",
    "\n",
    "def multiply(x, y):\n",
    "    return x * y\n",
    "\n",
    "def divide(x, y):\n",
    "    if y == 0:\n",
    "        return \"Error! Division by zero.\"\n",
    "    return x / y\n",
    "\n",
    "def power(x, y):\n",
    "    return x ** y\n",
    "\n",
    "def square_root(x):\n",
    "    if x < 0:\n",
    "        return \"Error! Cannot take square root of negative number.\"\n",
    "    return math.sqrt(x)\n",
    "\n",
    "def modulus(x, y):\n",
    "    return x % y\n",
    "\n",
    "def sine(x):\n",
    "    return math.sin(math.radians(x))\n",
    "\n",
    "def cosine(x):\n",
    "    return math.cos(math.radians(x))\n",
    "\n",
    "def tangent(x):\n",
    "    return math.tan(math.radians(x))\n",
    "\n",
    "def logarithm(x):\n",
    "    if x <= 0:\n",
    "        return \"Error! Log undefined for non-positive numbers.\"\n",
    "    return math.log(x)\n",
    "\n",
    "def factorial(x):\n",
    "    if x < 0:\n",
    "        return \"Error! Factorial of negative number not defined.\"\n",
    "    return math.factorial(x)"
   ]
  },
  {
   "cell_type": "markdown",
   "metadata": {},
   "source": [
    "## 3. Display Menu"
   ]
  },
  {
   "cell_type": "code",
   "execution_count": null,
   "metadata": {},
   "outputs": [],
   "source": [
    "def show_menu():\n",
    "    print(\"\\nAdvanced Calculator Menu:\")\n",
    "    print(\"1. Addition\")\n",
    "    print(\"2. Subtraction\")\n",
    "    print(\"3. Multiplication\")\n",
    "    print(\"4. Division\")\n",
    "    print(\"5. Power (x^y)\")\n",
    "    print(\"6. Square Root\")\n",
    "    print(\"7. Modulus\")\n",
    "    print(\"8. Sine\")\n",
    "    print(\"9. Cosine\")\n",
    "    print(\"10. Tangent\")\n",
    "    print(\"11. Logarithm\")\n",
    "    print(\"12. Factorial\")\n",
    "    print(\"0. Exit\")"
   ]
  },
  {
   "cell_type": "markdown",
   "metadata": {},
   "source": [
    "## 4. Main Program Loop"
   ]
  },
  {
   "cell_type": "code",
   "execution_count": null,
   "metadata": {},
   "outputs": [],
   "source": [
    "while True:\n",
    "    show_menu()\n",
    "    choice = input(\"Enter your choice: \")\n",
    "\n",
    "    if choice == '0':\n",
    "        print(\"Exiting Calculator. Goodbye!\")\n",
    "        break\n",
    "\n",
    "    if choice in ['1','2','3','4','5','7']:\n",
    "        x = float(input(\"Enter first number: \"))\n",
    "        y = float(input(\"Enter second number: \"))\n",
    "\n",
    "        if choice == '1':\n",
    "            print(\"Result:\", add(x, y))\n",
    "        elif choice == '2':\n",
    "            print(\"Result:\", subtract(x, y))\n",
    "        elif choice == '3':\n",
    "            print(\"Result:\", multiply(x, y))\n",
    "        elif choice == '4':\n",
    "            print(\"Result:\", divide(x, y))\n",
    "        elif choice == '5':\n",
    "            print(\"Result:\", power(x, y))\n",
    "        elif choice == '7':\n",
    "            print(\"Result:\", modulus(x, y))\n",
    "\n",
    "    elif choice == '6':\n",
    "        x = float(input(\"Enter number: \"))\n",
    "        print(\"Result:\", square_root(x))\n",
    "\n",
    "    elif choice == '8':\n",
    "        x = float(input(\"Enter angle in degrees: \"))\n",
    "        print(\"Result:\", sine(x))\n",
    "\n",
    "    elif choice == '9':\n",
    "        x = float(input(\"Enter angle in degrees: \"))\n",
    "        print(\"Result:\", cosine(x))\n",
    "\n",
    "    elif choice == '10':\n",
    "        x = float(input(\"Enter angle in degrees: \"))\n",
    "        print(\"Result:\", tangent(x))\n",
    "\n",
    "    elif choice == '11':\n",
    "        x = float(input(\"Enter number: \"))\n",
    "        print(\"Result:\", logarithm(x))\n",
    "\n",
    "    elif choice == '12':\n",
    "        x = int(input(\"Enter integer: \"))\n",
    "        print(\"Result:\", factorial(x))\n",
    "\n",
    "    else:\n",
    "        print(\"Invalid choice! Please select from the menu.\")"
   ]
  }
 ],
 "metadata": {
  "kernelspec": {
   "display_name": "Python 3",
   "language": "python",
   "name": "python3"
  },
  "language_info": {
   "name": "python",
   "version": "3.10"
  }
 },
 "nbformat": 4,
 "nbformat_minor": 5
}
