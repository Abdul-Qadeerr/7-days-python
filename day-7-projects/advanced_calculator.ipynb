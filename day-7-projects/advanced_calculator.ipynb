{
  "cells": [
    {
      "cell_type": "markdown",
      "metadata": {
        "id": "awZRVWqWpAuV"
      },
      "source": [
        "# 🔢 Advanced Calculator in Python\n",
        "This notebook implements an advanced calculator with multiple mathematical operations."
      ],
      "id": "awZRVWqWpAuV"
    },
    {
      "cell_type": "markdown",
      "metadata": {
        "id": "AjqO2d9KpAuW"
      },
      "source": [
        "## 1. Import Required Libraries"
      ],
      "id": "AjqO2d9KpAuW"
    },
    {
      "cell_type": "code",
      "execution_count": null,
      "metadata": {
        "id": "h3aaqwj5pAuW"
      },
      "outputs": [],
      "source": [
        "import math"
      ],
      "id": "h3aaqwj5pAuW"
    },
    {
      "cell_type": "markdown",
      "metadata": {
        "id": "WY30ClzVpAuW"
      },
      "source": [
        "## 2. Define Calculator Functions"
      ],
      "id": "WY30ClzVpAuW"
    },
    {
      "cell_type": "code",
      "execution_count": 3,
      "metadata": {
        "id": "qisCBn-jpAuW"
      },
      "outputs": [],
      "source": [
        "def add(x, y):\n",
        "    return x + y\n",
        "\n",
        "def subtract(x, y):\n",
        "    return x - y\n",
        "\n",
        "def multiply(x, y):\n",
        "    return x * y\n",
        "\n",
        "def divide(x, y):\n",
        "    if y == 0:\n",
        "        return \"Error! Division by zero.\"\n",
        "    return x / y\n",
        "\n",
        "def power(x, y):\n",
        "    return x ** y\n",
        "\n",
        "def square_root(x):\n",
        "    if x < 0:\n",
        "        return \"Error! Cannot take square root of negative number.\"\n",
        "    return math.sqrt(x)\n",
        "\n",
        "def modulus(x, y):\n",
        "    return x % y\n",
        "\n",
        "def sine(x):\n",
        "    return math.sin(math.radians(x))\n",
        "\n",
        "def cosine(x):\n",
        "    return math.cos(math.radians(x))\n",
        "\n",
        "def tangent(x):\n",
        "    return math.tan(math.radians(x))\n",
        "\n",
        "def logarithm(x):\n",
        "    if x <= 0:\n",
        "        return \"Error! Log undefined for non-positive numbers.\"\n",
        "    return math.log(x)\n",
        "\n",
        "def factorial(x):\n",
        "    if x < 0:\n",
        "        return \"Error! Factorial of negative number not defined.\"\n",
        "    return math.factorial(x)"
      ],
      "id": "qisCBn-jpAuW"
    },
    {
      "cell_type": "markdown",
      "metadata": {
        "id": "2HpQ9xQ0pAuX"
      },
      "source": [
        "## 3. Display Menu"
      ],
      "id": "2HpQ9xQ0pAuX"
    },
    {
      "cell_type": "code",
      "execution_count": 4,
      "metadata": {
        "id": "YtHOhSl-pAuX"
      },
      "outputs": [],
      "source": [
        "def show_menu():\n",
        "    print(\"\\nAdvanced Calculator Menu:\")\n",
        "    print(\"1. Addition\")\n",
        "    print(\"2. Subtraction\")\n",
        "    print(\"3. Multiplication\")\n",
        "    print(\"4. Division\")\n",
        "    print(\"5. Power (x^y)\")\n",
        "    print(\"6. Square Root\")\n",
        "    print(\"7. Modulus\")\n",
        "    print(\"8. Sine\")\n",
        "    print(\"9. Cosine\")\n",
        "    print(\"10. Tangent\")\n",
        "    print(\"11. Logarithm\")\n",
        "    print(\"12. Factorial\")\n",
        "    print(\"0. Exit\")"
      ],
      "id": "YtHOhSl-pAuX"
    },
    {
      "cell_type": "markdown",
      "metadata": {
        "id": "_rpIXlZgpAuX"
      },
      "source": [
        "## 4. Main Program Loop"
      ],
      "id": "_rpIXlZgpAuX"
    },
    {
      "cell_type": "code",
      "execution_count": null,
      "metadata": {
        "id": "Ia0ptG7HpAuX",
        "outputId": "a8f83da5-dd99-473d-a669-ad05b53297aa",
        "colab": {
          "base_uri": "https://localhost:8080/"
        }
      },
      "outputs": [
        {
          "output_type": "stream",
          "name": "stdout",
          "text": [
            "\n",
            "Advanced Calculator Menu:\n",
            "1. Addition\n",
            "2. Subtraction\n",
            "3. Multiplication\n",
            "4. Division\n",
            "5. Power (x^y)\n",
            "6. Square Root\n",
            "7. Modulus\n",
            "8. Sine\n",
            "9. Cosine\n",
            "10. Tangent\n",
            "11. Logarithm\n",
            "12. Factorial\n",
            "0. Exit\n",
            "Enter your choice: Addition\n",
            "Invalid choice! Please select from the menu.\n",
            "\n",
            "Advanced Calculator Menu:\n",
            "1. Addition\n",
            "2. Subtraction\n",
            "3. Multiplication\n",
            "4. Division\n",
            "5. Power (x^y)\n",
            "6. Square Root\n",
            "7. Modulus\n",
            "8. Sine\n",
            "9. Cosine\n",
            "10. Tangent\n",
            "11. Logarithm\n",
            "12. Factorial\n",
            "0. Exit\n",
            "Enter your choice: Exit\n",
            "Invalid choice! Please select from the menu.\n",
            "\n",
            "Advanced Calculator Menu:\n",
            "1. Addition\n",
            "2. Subtraction\n",
            "3. Multiplication\n",
            "4. Division\n",
            "5. Power (x^y)\n",
            "6. Square Root\n",
            "7. Modulus\n",
            "8. Sine\n",
            "9. Cosine\n",
            "10. Tangent\n",
            "11. Logarithm\n",
            "12. Factorial\n",
            "0. Exit\n",
            "Enter your choice: ok\n",
            "Invalid choice! Please select from the menu.\n",
            "\n",
            "Advanced Calculator Menu:\n",
            "1. Addition\n",
            "2. Subtraction\n",
            "3. Multiplication\n",
            "4. Division\n",
            "5. Power (x^y)\n",
            "6. Square Root\n",
            "7. Modulus\n",
            "8. Sine\n",
            "9. Cosine\n",
            "10. Tangent\n",
            "11. Logarithm\n",
            "12. Factorial\n",
            "0. Exit\n"
          ]
        }
      ],
      "source": [
        "while True:\n",
        "    show_menu()\n",
        "    choice = input(\"Enter your choice: \")\n",
        "\n",
        "    if choice == '0':\n",
        "        print(\"Exiting Calculator. Goodbye!\")\n",
        "        break\n",
        "\n",
        "    if choice in ['1','2','3','4','5','7']:\n",
        "        x = float(input(\"Enter first number: \"))\n",
        "        y = float(input(\"Enter second number: \"))\n",
        "\n",
        "        if choice == '1':\n",
        "            print(\"Result:\", add(x, y))\n",
        "        elif choice == '2':\n",
        "            print(\"Result:\", subtract(x, y))\n",
        "        elif choice == '3':\n",
        "            print(\"Result:\", multiply(x, y))\n",
        "        elif choice == '4':\n",
        "            print(\"Result:\", divide(x, y))\n",
        "        elif choice == '5':\n",
        "            print(\"Result:\", power(x, y))\n",
        "        elif choice == '7':\n",
        "            print(\"Result:\", modulus(x, y))\n",
        "\n",
        "    elif choice == '6':\n",
        "        x = float(input(\"Enter number: \"))\n",
        "        print(\"Result:\", square_root(x))\n",
        "\n",
        "    elif choice == '8':\n",
        "        x = float(input(\"Enter angle in degrees: \"))\n",
        "        print(\"Result:\", sine(x))\n",
        "\n",
        "    elif choice == '9':\n",
        "        x = float(input(\"Enter angle in degrees: \"))\n",
        "        print(\"Result:\", cosine(x))\n",
        "\n",
        "    elif choice == '10':\n",
        "        x = float(input(\"Enter angle in degrees: \"))\n",
        "        print(\"Result:\", tangent(x))\n",
        "\n",
        "    elif choice == '11':\n",
        "        x = float(input(\"Enter number: \"))\n",
        "        print(\"Result:\", logarithm(x))\n",
        "\n",
        "    elif choice == '12':\n",
        "        x = int(input(\"Enter integer: \"))\n",
        "        print(\"Result:\", factorial(x))\n",
        "\n",
        "    else:\n",
        "        print(\"Invalid choice! Please select from the menu.\")"
      ],
      "id": "Ia0ptG7HpAuX"
    }
  ],
  "metadata": {
    "kernelspec": {
      "display_name": "Python 3",
      "language": "python",
      "name": "python3"
    },
    "language_info": {
      "name": "python",
      "version": "3.10"
    },
    "colab": {
      "provenance": []
    }
  },
  "nbformat": 4,
  "nbformat_minor": 5
}