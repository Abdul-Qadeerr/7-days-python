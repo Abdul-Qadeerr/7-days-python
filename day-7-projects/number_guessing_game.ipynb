{
  "cells": [
    {
      "cell_type": "markdown",
      "metadata": {
        "id": "OVlw9jxlpgF-"
      },
      "source": [
        "# 🎮 Number Guessing Game in Python\n",
        "This game asks the user to guess a number between 1 and 100."
      ],
      "id": "OVlw9jxlpgF-"
    },
    {
      "cell_type": "code",
      "execution_count": 1,
      "metadata": {
        "id": "3Is9zQ_ppgF-",
        "outputId": "3e0c33cd-e4bd-4b20-825f-9878e00a34b4",
        "colab": {
          "base_uri": "https://localhost:8080/"
        }
      },
      "outputs": [
        {
          "output_type": "stream",
          "name": "stdout",
          "text": [
            "Welcome to the Number Guessing Game!\n",
            "I have chosen a number between 1 and 100.\n",
            "Enter your guess: 5\n",
            "Too low! Try again.\n",
            "Enter your guess: 79\n",
            "Too low! Try again.\n",
            "Enter your guess: 1\n",
            "Too low! Try again.\n",
            "Enter your guess: 100\n",
            "Too high! Try again.\n",
            "Enter your guess: 1\n",
            "Too low! Try again.\n",
            "Enter your guess: 2\n",
            "Too low! Try again.\n",
            "Enter your guess: 3\n",
            "Too low! Try again.\n",
            "Enter your guess: 47\n",
            "Too low! Try again.\n",
            "Enter your guess: 20\n",
            "Too low! Try again.\n",
            "Enter your guess: 47\n",
            "Too low! Try again.\n",
            "Enter your guess: 1\n",
            "Too low! Try again.\n",
            "Enter your guess: 2\n",
            "Too low! Try again.\n",
            "Enter your guess: 3\n",
            "Too low! Try again.\n",
            "Enter your guess: 4\n",
            "Too low! Try again.\n",
            "Enter your guess: 5\n",
            "Too low! Try again.\n",
            "Enter your guess: 6\n",
            "Too low! Try again.\n",
            "Enter your guess: 7\n",
            "Too low! Try again.\n",
            "Enter your guess: 10\n",
            "Too low! Try again.\n",
            "Enter your guess: 20\n",
            "Too low! Try again.\n",
            "Enter your guess: 30\n",
            "Too low! Try again.\n",
            "Enter your guess: 40\n",
            "Too low! Try again.\n",
            "Enter your guess: 50\n",
            "Too low! Try again.\n",
            "Enter your guess: 60\n",
            "Too low! Try again.\n",
            "Enter your guess: 70\n",
            "Too low! Try again.\n",
            "Enter your guess: 80\n",
            "Too low! Try again.\n",
            "Enter your guess: 90\n",
            "Too low! Try again.\n",
            "Enter your guess: 95\n",
            "Too high! Try again.\n",
            "Enter your guess: 96\n",
            "Too high! Try again.\n",
            "Enter your guess: 97\n",
            "Too high! Try again.\n",
            "Enter your guess: 98\n",
            "Too high! Try again.\n",
            "Enter your guess: 99\n",
            "Too high! Try again.\n",
            "Enter your guess: 100\n",
            "Too high! Try again.\n",
            "Enter your guess: 89\n",
            "Too low! Try again.\n",
            "Enter your guess: 90\n",
            "Too low! Try again.\n",
            "Enter your guess: 91\n",
            "Too low! Try again.\n",
            "Enter your guess: 92\n",
            "Too low! Try again.\n",
            "Enter your guess: 93\n",
            "🎉 Congratulations! You guessed it in 37 attempts.\n"
          ]
        }
      ],
      "source": [
        "import random\n",
        "\n",
        "secret_number = random.randint(1, 100)\n",
        "attempts = 0\n",
        "\n",
        "print(\"Welcome to the Number Guessing Game!\")\n",
        "print(\"I have chosen a number between 1 and 100.\")\n",
        "\n",
        "while True:\n",
        "    guess = int(input(\"Enter your guess: \"))\n",
        "    attempts += 1\n",
        "\n",
        "    if guess < secret_number:\n",
        "        print(\"Too low! Try again.\")\n",
        "    elif guess > secret_number:\n",
        "        print(\"Too high! Try again.\")\n",
        "    else:\n",
        "        print(f\"🎉 Congratulations! You guessed it in {attempts} attempts.\")\n",
        "        break"
      ],
      "id": "3Is9zQ_ppgF-"
    }
  ],
  "metadata": {
    "kernelspec": {
      "display_name": "Python 3",
      "language": "python",
      "name": "python3"
    },
    "language_info": {
      "name": "python",
      "version": "3.10"
    },
    "colab": {
      "provenance": []
    }
  },
  "nbformat": 4,
  "nbformat_minor": 5
}