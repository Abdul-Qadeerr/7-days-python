{
 "cells": [
  {
   "cell_type": "markdown",
   "id": "216cb019",
   "metadata": {},
   "source": [
    "# 🐍 Functions & Modules\n",
    "---\n",
    "This notebook contains practical examples of **Functions** and **Modules** in Python."
   ]
  },
  {
   "cell_type": "markdown",
   "id": "b957a15f",
   "metadata": {},
   "source": [
    "## 1. Functions - Basics\n",
    "Define and call a simple function."
   ]
  },
  {
   "cell_type": "code",
   "execution_count": null,
   "id": "3a211ae4",
   "metadata": {},
   "outputs": [],
   "source": [
    "def greet(name):\n",
    "    return f\"Hello, {name}!\"\n",
    "\n",
    "# Call the function\n",
    "print(greet(\"Qadeer\"))"
   ]
  },
  {
   "cell_type": "markdown",
   "id": "6fb3149e",
   "metadata": {},
   "source": [
    "## 2. Functions with Parameters and Return Values\n",
    "Example: Addition function."
   ]
  },
  {
   "cell_type": "code",
   "execution_count": null,
   "id": "32775dfc",
   "metadata": {},
   "outputs": [],
   "source": [
    "def add(a, b):\n",
    "    return a + b\n",
    "\n",
    "print(\"5 + 3 =\", add(5, 3))"
   ]
  },
  {
   "cell_type": "markdown",
   "id": "566634c6",
   "metadata": {},
   "source": [
    "## 3. Function for Factorial (Practice)\n",
    "Try writing a function that calculates factorial of a number."
   ]
  },
  {
   "cell_type": "code",
   "execution_count": null,
   "id": "dbacd6f0",
   "metadata": {},
   "outputs": [],
   "source": [
    "def factorial(n):\n",
    "    if n == 0 or n == 1:\n",
    "        return 1\n",
    "    else:\n",
    "        return n * factorial(n-1)\n",
    "\n",
    "print(\"Factorial of 5 =\", factorial(5))"
   ]
  },
  {
   "cell_type": "markdown",
   "id": "8ffacbbe",
   "metadata": {},
   "source": [
    "## 4. Using Built-in Modules\n",
    "Example: Using the `math` module."
   ]
  },
  {
   "cell_type": "code",
   "execution_count": null,
   "id": "b9e45460",
   "metadata": {},
   "outputs": [],
   "source": [
    "import math\n",
    "\n",
    "print(\"Square root of 16:\", math.sqrt(16))\n",
    "print(\"Value of PI:\", math.pi)"
   ]
  },
  {
   "cell_type": "markdown",
   "id": "49e5cda2",
   "metadata": {},
   "source": [
    "## 5. Creating a User-defined Module\n",
    "Step 1: Create a new file `mymodule.py` with the following code:"
   ]
  },
  {
   "cell_type": "code",
   "execution_count": null,
   "id": "4e8808bd",
   "metadata": {},
   "outputs": [],
   "source": [
    "%%writefile mymodule.py\n",
    "def say_hello(name):\n",
    "    return f\"Welcome, {name}!\"\n",
    "\n",
    "def square(x):\n",
    "    return x * x"
   ]
  },
  {
   "cell_type": "markdown",
   "id": "49f1a2ab",
   "metadata": {},
   "source": [
    "Step 2: Import and use `mymodule` in this notebook."
   ]
  },
  {
   "cell_type": "code",
   "execution_count": null,
   "id": "b314bccd",
   "metadata": {},
   "outputs": [],
   "source": [
    "import mymodule\n",
    "\n",
    "print(mymodule.say_hello(\"Qadeer\"))\n",
    "print(\"Square of 6:\", mymodule.square(6))"
   ]
  }
 ],
 "metadata": {},
 "nbformat": 4,
 "nbformat_minor": 5
}
