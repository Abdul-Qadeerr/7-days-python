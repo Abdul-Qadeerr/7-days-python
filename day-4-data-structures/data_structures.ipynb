{
  "cells": [
    {
      "cell_type": "markdown",
      "id": "648f7878",
      "metadata": {
        "id": "648f7878"
      },
      "source": [
        "# 📘 Python Data Structures - Practice Problems"
      ]
    },
    {
      "cell_type": "markdown",
      "id": "f253da63",
      "metadata": {
        "id": "f253da63"
      },
      "source": [
        "## 1. Lists"
      ]
    },
    {
      "cell_type": "code",
      "execution_count": 1,
      "id": "9fa19c4f",
      "metadata": {
        "id": "9fa19c4f",
        "outputId": "01767e72-2581-4c18-f296-cd365bf183a1",
        "colab": {
          "base_uri": "https://localhost:8080/"
        }
      },
      "outputs": [
        {
          "output_type": "stream",
          "name": "stdout",
          "text": [
            "Original list: [10, 20, 30, 40, 50]\n",
            "First element: 10\n",
            "Slice [1:4]: [20, 30, 40]\n",
            "After append: [10, 20, 30, 40, 50, 60]\n",
            "After removing 30: [10, 20, 40, 50, 60]\n"
          ]
        }
      ],
      "source": [
        "\n",
        "# Example: Working with Lists\n",
        "numbers = [10, 20, 30, 40, 50]\n",
        "print(\"Original list:\", numbers)\n",
        "\n",
        "# Accessing elements\n",
        "print(\"First element:\", numbers[0])\n",
        "\n",
        "# Slicing\n",
        "print(\"Slice [1:4]:\", numbers[1:4])\n",
        "\n",
        "# Adding and removing\n",
        "numbers.append(60)\n",
        "print(\"After append:\", numbers)\n",
        "numbers.remove(30)\n",
        "print(\"After removing 30:\", numbers)\n"
      ]
    },
    {
      "cell_type": "markdown",
      "id": "876c86df",
      "metadata": {
        "id": "876c86df"
      },
      "source": [
        "**Practice Problem:** Reverse a list without using `reverse()` or slicing."
      ]
    },
    {
      "cell_type": "code",
      "execution_count": 2,
      "id": "e7bc6bdc",
      "metadata": {
        "id": "e7bc6bdc"
      },
      "outputs": [],
      "source": [
        "\n",
        "# TODO: Reverse a list manually\n",
        "data = [1, 2, 3, 4, 5]\n",
        "# Your code here\n"
      ]
    },
    {
      "cell_type": "markdown",
      "id": "83843589",
      "metadata": {
        "id": "83843589"
      },
      "source": [
        "## 2. Tuples"
      ]
    },
    {
      "cell_type": "code",
      "execution_count": 4,
      "id": "1b61df92",
      "metadata": {
        "id": "1b61df92",
        "outputId": "69d24af1-0dee-4c53-8bfb-35c9157ed413",
        "colab": {
          "base_uri": "https://localhost:8080/"
        }
      },
      "outputs": [
        {
          "output_type": "stream",
          "name": "stdout",
          "text": [
            "Tuple: (10, 20, 30)\n",
            "x: 10 y: 20 z: 30\n"
          ]
        }
      ],
      "source": [
        "\n",
        "# Example: Tuples\n",
        "coordinates = (10, 20, 30)\n",
        "print(\"Tuple:\", coordinates)\n",
        "\n",
        "# Unpacking\n",
        "x, y, z = coordinates\n",
        "print(\"x:\", x, \"y:\", y, \"z:\", z)\n"
      ]
    },
    {
      "cell_type": "markdown",
      "id": "31a37f53",
      "metadata": {
        "id": "31a37f53"
      },
      "source": [
        "**Practice Problem:** Create a tuple of 5 numbers and print the maximum and minimum."
      ]
    },
    {
      "cell_type": "code",
      "execution_count": 8,
      "id": "1a787264",
      "metadata": {
        "id": "1a787264"
      },
      "outputs": [],
      "source": [
        "\n",
        "# TODO: Your code here\n"
      ]
    },
    {
      "cell_type": "markdown",
      "id": "cb3965b9",
      "metadata": {
        "id": "cb3965b9"
      },
      "source": [
        "## 3. Sets"
      ]
    },
    {
      "cell_type": "code",
      "execution_count": 9,
      "id": "e7716955",
      "metadata": {
        "id": "e7716955",
        "outputId": "f6eedb5b-44e0-4743-d1a6-009b43230a0a",
        "colab": {
          "base_uri": "https://localhost:8080/"
        }
      },
      "outputs": [
        {
          "output_type": "stream",
          "name": "stdout",
          "text": [
            "Union: {1, 2, 3, 4, 5, 6}\n",
            "Intersection: {3, 4}\n",
            "Difference: {1, 2}\n"
          ]
        }
      ],
      "source": [
        "\n",
        "# Example: Sets\n",
        "set_a = {1, 2, 3, 4}\n",
        "set_b = {3, 4, 5, 6}\n",
        "\n",
        "print(\"Union:\", set_a | set_b)\n",
        "print(\"Intersection:\", set_a & set_b)\n",
        "print(\"Difference:\", set_a - set_b)\n"
      ]
    },
    {
      "cell_type": "markdown",
      "id": "e304c1b5",
      "metadata": {
        "id": "e304c1b5"
      },
      "source": [
        "**Practice Problem:** Remove duplicates from the list `[1,2,2,3,4,4,5]` using a set."
      ]
    },
    {
      "cell_type": "code",
      "execution_count": null,
      "id": "4e3ab3af",
      "metadata": {
        "id": "4e3ab3af"
      },
      "outputs": [],
      "source": [
        "\n",
        "# TODO: Your code here\n"
      ]
    },
    {
      "cell_type": "markdown",
      "id": "c17306af",
      "metadata": {
        "id": "c17306af"
      },
      "source": [
        "## 4. Dictionaries"
      ]
    },
    {
      "cell_type": "code",
      "execution_count": 10,
      "id": "35b0d73b",
      "metadata": {
        "id": "35b0d73b",
        "outputId": "5a158963-a520-44a7-bee9-cc5b00c49ec4",
        "colab": {
          "base_uri": "https://localhost:8080/"
        }
      },
      "outputs": [
        {
          "output_type": "stream",
          "name": "stdout",
          "text": [
            "Student dictionary: {'name': 'Alice', 'age': 22, 'course': 'Python'}\n",
            "Name: Alice\n",
            "Updated dictionary: {'name': 'Alice', 'age': 22, 'course': 'Python', 'grade': 'A'}\n"
          ]
        }
      ],
      "source": [
        "\n",
        "# Example: Dictionaries\n",
        "student = {\"name\": \"Alice\", \"age\": 22, \"course\": \"Python\"}\n",
        "print(\"Student dictionary:\", student)\n",
        "\n",
        "# Accessing values\n",
        "print(\"Name:\", student[\"name\"])\n",
        "\n",
        "# Adding a new key-value pair\n",
        "student[\"grade\"] = \"A\"\n",
        "print(\"Updated dictionary:\", student)\n"
      ]
    },
    {
      "cell_type": "markdown",
      "id": "7a8f6599",
      "metadata": {
        "id": "7a8f6599"
      },
      "source": [
        "**Practice Problem:** Count frequency of words in a given string using a dictionary."
      ]
    },
    {
      "cell_type": "code",
      "execution_count": 11,
      "id": "1dfe5c1c",
      "metadata": {
        "id": "1dfe5c1c"
      },
      "outputs": [],
      "source": [
        "\n",
        "# TODO: Count frequency of words in this string\n",
        "text = \"python is easy and python is powerful\"\n",
        "# Your code here\n"
      ]
    },
    {
      "cell_type": "markdown",
      "id": "f3d5c6ce",
      "metadata": {
        "id": "f3d5c6ce"
      },
      "source": [
        "## 5. Stack & Queue"
      ]
    },
    {
      "cell_type": "code",
      "execution_count": 12,
      "id": "d6524740",
      "metadata": {
        "id": "d6524740",
        "outputId": "da994730-42d7-4dc5-d072-79101242f48c",
        "colab": {
          "base_uri": "https://localhost:8080/"
        }
      },
      "outputs": [
        {
          "output_type": "stream",
          "name": "stdout",
          "text": [
            "Stack: [10, 20]\n",
            "After pop: [10]\n",
            "Queue: deque([1, 2, 3, 4])\n",
            "After dequeue: deque([2, 3, 4])\n"
          ]
        }
      ],
      "source": [
        "\n",
        "# Implementing a Stack using list\n",
        "stack = []\n",
        "stack.append(10)\n",
        "stack.append(20)\n",
        "print(\"Stack:\", stack)\n",
        "stack.pop()\n",
        "print(\"After pop:\", stack)\n",
        "\n",
        "# Implementing a Queue using deque\n",
        "from collections import deque\n",
        "queue = deque([1,2,3])\n",
        "queue.append(4)\n",
        "print(\"Queue:\", queue)\n",
        "queue.popleft()\n",
        "print(\"After dequeue:\", queue)\n"
      ]
    }
  ],
  "metadata": {
    "colab": {
      "provenance": []
    },
    "language_info": {
      "name": "python"
    },
    "kernelspec": {
      "name": "python3",
      "display_name": "Python 3"
    }
  },
  "nbformat": 4,
  "nbformat_minor": 5
}