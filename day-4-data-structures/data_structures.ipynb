{
 "cells": [
  {
   "cell_type": "markdown",
   "id": "648f7878",
   "metadata": {},
   "source": [
    "# 📘 Python Data Structures - Practice Problems"
   ]
  },
  {
   "cell_type": "markdown",
   "id": "f253da63",
   "metadata": {},
   "source": [
    "## 1. Lists"
   ]
  },
  {
   "cell_type": "code",
   "execution_count": null,
   "id": "9fa19c4f",
   "metadata": {},
   "outputs": [],
   "source": [
    "\n",
    "# Example: Working with Lists\n",
    "numbers = [10, 20, 30, 40, 50]\n",
    "print(\"Original list:\", numbers)\n",
    "\n",
    "# Accessing elements\n",
    "print(\"First element:\", numbers[0])\n",
    "\n",
    "# Slicing\n",
    "print(\"Slice [1:4]:\", numbers[1:4])\n",
    "\n",
    "# Adding and removing\n",
    "numbers.append(60)\n",
    "print(\"After append:\", numbers)\n",
    "numbers.remove(30)\n",
    "print(\"After removing 30:\", numbers)\n"
   ]
  },
  {
   "cell_type": "markdown",
   "id": "876c86df",
   "metadata": {},
   "source": [
    "**Practice Problem:** Reverse a list without using `reverse()` or slicing."
   ]
  },
  {
   "cell_type": "code",
   "execution_count": null,
   "id": "e7bc6bdc",
   "metadata": {},
   "outputs": [],
   "source": [
    "\n",
    "# TODO: Reverse a list manually\n",
    "data = [1, 2, 3, 4, 5]\n",
    "# Your code here\n"
   ]
  },
  {
   "cell_type": "markdown",
   "id": "83843589",
   "metadata": {},
   "source": [
    "## 2. Tuples"
   ]
  },
  {
   "cell_type": "code",
   "execution_count": null,
   "id": "1b61df92",
   "metadata": {},
   "outputs": [],
   "source": [
    "\n",
    "# Example: Tuples\n",
    "coordinates = (10, 20, 30)\n",
    "print(\"Tuple:\", coordinates)\n",
    "\n",
    "# Unpacking\n",
    "x, y, z = coordinates\n",
    "print(\"x:\", x, \"y:\", y, \"z:\", z)\n"
   ]
  },
  {
   "cell_type": "markdown",
   "id": "31a37f53",
   "metadata": {},
   "source": [
    "**Practice Problem:** Create a tuple of 5 numbers and print the maximum and minimum."
   ]
  },
  {
   "cell_type": "code",
   "execution_count": null,
   "id": "1a787264",
   "metadata": {},
   "outputs": [],
   "source": [
    "\n",
    "# TODO: Your code here\n"
   ]
  },
  {
   "cell_type": "markdown",
   "id": "cb3965b9",
   "metadata": {},
   "source": [
    "## 3. Sets"
   ]
  },
  {
   "cell_type": "code",
   "execution_count": null,
   "id": "e7716955",
   "metadata": {},
   "outputs": [],
   "source": [
    "\n",
    "# Example: Sets\n",
    "set_a = {1, 2, 3, 4}\n",
    "set_b = {3, 4, 5, 6}\n",
    "\n",
    "print(\"Union:\", set_a | set_b)\n",
    "print(\"Intersection:\", set_a & set_b)\n",
    "print(\"Difference:\", set_a - set_b)\n"
   ]
  },
  {
   "cell_type": "markdown",
   "id": "e304c1b5",
   "metadata": {},
   "source": [
    "**Practice Problem:** Remove duplicates from the list `[1,2,2,3,4,4,5]` using a set."
   ]
  },
  {
   "cell_type": "code",
   "execution_count": null,
   "id": "4e3ab3af",
   "metadata": {},
   "outputs": [],
   "source": [
    "\n",
    "# TODO: Your code here\n"
   ]
  },
  {
   "cell_type": "markdown",
   "id": "c17306af",
   "metadata": {},
   "source": [
    "## 4. Dictionaries"
   ]
  },
  {
   "cell_type": "code",
   "execution_count": null,
   "id": "35b0d73b",
   "metadata": {},
   "outputs": [],
   "source": [
    "\n",
    "# Example: Dictionaries\n",
    "student = {\"name\": \"Alice\", \"age\": 22, \"course\": \"Python\"}\n",
    "print(\"Student dictionary:\", student)\n",
    "\n",
    "# Accessing values\n",
    "print(\"Name:\", student[\"name\"])\n",
    "\n",
    "# Adding a new key-value pair\n",
    "student[\"grade\"] = \"A\"\n",
    "print(\"Updated dictionary:\", student)\n"
   ]
  },
  {
   "cell_type": "markdown",
   "id": "7a8f6599",
   "metadata": {},
   "source": [
    "**Practice Problem:** Count frequency of words in a given string using a dictionary."
   ]
  },
  {
   "cell_type": "code",
   "execution_count": null,
   "id": "1dfe5c1c",
   "metadata": {},
   "outputs": [],
   "source": [
    "\n",
    "# TODO: Count frequency of words in this string\n",
    "text = \"python is easy and python is powerful\"\n",
    "# Your code here\n"
   ]
  },
  {
   "cell_type": "markdown",
   "id": "f3d5c6ce",
   "metadata": {},
   "source": [
    "## 5. Stack & Queue"
   ]
  },
  {
   "cell_type": "code",
   "execution_count": null,
   "id": "d6524740",
   "metadata": {},
   "outputs": [],
   "source": [
    "\n",
    "# Implementing a Stack using list\n",
    "stack = []\n",
    "stack.append(10)\n",
    "stack.append(20)\n",
    "print(\"Stack:\", stack)\n",
    "stack.pop()\n",
    "print(\"After pop:\", stack)\n",
    "\n",
    "# Implementing a Queue using deque\n",
    "from collections import deque\n",
    "queue = deque([1,2,3])\n",
    "queue.append(4)\n",
    "print(\"Queue:\", queue)\n",
    "queue.popleft()\n",
    "print(\"After dequeue:\", queue)\n"
   ]
  }
 ],
 "metadata": {},
 "nbformat": 4,
 "nbformat_minor": 5
}