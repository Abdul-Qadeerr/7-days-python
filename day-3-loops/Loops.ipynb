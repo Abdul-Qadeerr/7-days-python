{
  "cells": [
    {
      "cell_type": "markdown",
      "id": "4b7d32e7",
      "metadata": {
        "id": "4b7d32e7"
      },
      "source": [
        "# Day 3: Loops in Python\n",
        "This notebook covers different types of loops in Python with examples."
      ]
    },
    {
      "cell_type": "markdown",
      "id": "dfd8bfe1",
      "metadata": {
        "id": "dfd8bfe1"
      },
      "source": [
        "## 1️⃣ For Loop\n",
        "The `for` loop is used to iterate over a sequence."
      ]
    },
    {
      "cell_type": "code",
      "execution_count": 1,
      "id": "ca5b6d48",
      "metadata": {
        "id": "ca5b6d48",
        "outputId": "5da61b85-936a-4810-c13b-8e946cfbd864",
        "colab": {
          "base_uri": "https://localhost:8080/"
        }
      },
      "outputs": [
        {
          "output_type": "stream",
          "name": "stdout",
          "text": [
            "1\n",
            "2\n",
            "3\n",
            "4\n",
            "5\n"
          ]
        }
      ],
      "source": [
        "# Example: Print numbers from 1 to 5 using for loop\n",
        "for i in range(1, 6):\n",
        "    print(i)"
      ]
    },
    {
      "cell_type": "markdown",
      "id": "f8cb5ae4",
      "metadata": {
        "id": "f8cb5ae4"
      },
      "source": [
        "## 2️⃣ While Loop\n",
        "The `while` loop executes as long as the condition is true."
      ]
    },
    {
      "cell_type": "code",
      "execution_count": 2,
      "id": "7f3b3f7f",
      "metadata": {
        "id": "7f3b3f7f",
        "outputId": "3e42f742-c723-492d-962d-a77cfd02ad8d",
        "colab": {
          "base_uri": "https://localhost:8080/"
        }
      },
      "outputs": [
        {
          "output_type": "stream",
          "name": "stdout",
          "text": [
            "1\n",
            "2\n",
            "3\n",
            "4\n",
            "5\n"
          ]
        }
      ],
      "source": [
        "# Example: Print numbers from 1 to 5 using while loop\n",
        "num = 1\n",
        "while num <= 5:\n",
        "    print(num)\n",
        "    num += 1"
      ]
    },
    {
      "cell_type": "markdown",
      "id": "859b7916",
      "metadata": {
        "id": "859b7916"
      },
      "source": [
        "## 3️⃣ Nested Loops\n",
        "A loop inside another loop."
      ]
    },
    {
      "cell_type": "code",
      "execution_count": null,
      "id": "77353692",
      "metadata": {
        "id": "77353692"
      },
      "outputs": [],
      "source": [
        "# Example: Print a 3x3 grid using nested loops\n",
        "for i in range(1, 4):\n",
        "    for j in range(1, 4):\n",
        "        print(f\"{i},{j}\", end=\"  \")\n",
        "    print()"
      ]
    },
    {
      "cell_type": "markdown",
      "id": "d95f7ca2",
      "metadata": {
        "id": "d95f7ca2"
      },
      "source": [
        "## 🔹 Break Statement\n",
        "Exits the loop immediately when a condition is met."
      ]
    },
    {
      "cell_type": "code",
      "execution_count": 3,
      "id": "af956317",
      "metadata": {
        "id": "af956317",
        "outputId": "e47900a3-5da7-428e-b66e-97c7f84a4d4f",
        "colab": {
          "base_uri": "https://localhost:8080/"
        }
      },
      "outputs": [
        {
          "output_type": "stream",
          "name": "stdout",
          "text": [
            "1\n",
            "2\n",
            "3\n",
            "4\n"
          ]
        }
      ],
      "source": [
        "# Example: Stop loop when i equals 5\n",
        "for i in range(1, 10):\n",
        "    if i == 5:\n",
        "        break\n",
        "    print(i)"
      ]
    },
    {
      "cell_type": "markdown",
      "id": "77df0827",
      "metadata": {
        "id": "77df0827"
      },
      "source": [
        "## 🔹 Continue Statement\n",
        "Skips the current iteration and moves to the next one."
      ]
    },
    {
      "cell_type": "code",
      "execution_count": 4,
      "id": "25476888",
      "metadata": {
        "id": "25476888",
        "outputId": "891c17d9-6db1-4fe6-871e-cfdd7c9322ab",
        "colab": {
          "base_uri": "https://localhost:8080/"
        }
      },
      "outputs": [
        {
          "output_type": "stream",
          "name": "stdout",
          "text": [
            "1\n",
            "2\n",
            "4\n",
            "5\n"
          ]
        }
      ],
      "source": [
        "# Example: Skip printing number 3\n",
        "for i in range(1, 6):\n",
        "    if i == 3:\n",
        "        continue\n",
        "    print(i)"
      ]
    },
    {
      "cell_type": "markdown",
      "id": "bd357649",
      "metadata": {
        "id": "bd357649"
      },
      "source": [
        "## 🔹 Pass Statement\n",
        "Does nothing; acts as a placeholder."
      ]
    },
    {
      "cell_type": "code",
      "execution_count": 5,
      "id": "2c9a29a7",
      "metadata": {
        "id": "2c9a29a7",
        "outputId": "b07780c0-c07e-4fc4-a77a-007c7366b2fb",
        "colab": {
          "base_uri": "https://localhost:8080/"
        }
      },
      "outputs": [
        {
          "output_type": "stream",
          "name": "stdout",
          "text": [
            "1\n",
            "2\n",
            "3\n",
            "4\n",
            "5\n"
          ]
        }
      ],
      "source": [
        "# Example: Using pass in a loop\n",
        "for i in range(1, 6):\n",
        "    if i == 3:\n",
        "        pass\n",
        "    print(i)"
      ]
    },
    {
      "cell_type": "markdown",
      "id": "bbdc8774",
      "metadata": {
        "id": "bbdc8774"
      },
      "source": [
        "## ✅ Summary\n",
        "- Use `for` loops for sequences.\n",
        "- Use `while` loops when iterations are unknown.\n",
        "- Use nested loops for multiple dimensions.\n",
        "- Control loops using `break`, `continue`, and `pass`."
      ]
    }
  ],
  "metadata": {
    "colab": {
      "provenance": []
    },
    "language_info": {
      "name": "python"
    },
    "kernelspec": {
      "name": "python3",
      "display_name": "Python 3"
    }
  },
  "nbformat": 4,
  "nbformat_minor": 5
}