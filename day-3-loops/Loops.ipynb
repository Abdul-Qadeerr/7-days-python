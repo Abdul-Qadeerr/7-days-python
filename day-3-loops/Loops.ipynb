{
 "cells": [
  {
   "cell_type": "markdown",
   "id": "4b7d32e7",
   "metadata": {},
   "source": [
    "# Day 3: Loops in Python\n",
    "This notebook covers different types of loops in Python with examples."
   ]
  },
  {
   "cell_type": "markdown",
   "id": "dfd8bfe1",
   "metadata": {},
   "source": [
    "## 1️⃣ For Loop\n",
    "The `for` loop is used to iterate over a sequence."
   ]
  },
  {
   "cell_type": "code",
   "execution_count": null,
   "id": "ca5b6d48",
   "metadata": {},
   "outputs": [],
   "source": [
    "# Example: Print numbers from 1 to 5 using for loop\n",
    "for i in range(1, 6):\n",
    "    print(i)"
   ]
  },
  {
   "cell_type": "markdown",
   "id": "f8cb5ae4",
   "metadata": {},
   "source": [
    "## 2️⃣ While Loop\n",
    "The `while` loop executes as long as the condition is true."
   ]
  },
  {
   "cell_type": "code",
   "execution_count": null,
   "id": "7f3b3f7f",
   "metadata": {},
   "outputs": [],
   "source": [
    "# Example: Print numbers from 1 to 5 using while loop\n",
    "num = 1\n",
    "while num <= 5:\n",
    "    print(num)\n",
    "    num += 1"
   ]
  },
  {
   "cell_type": "markdown",
   "id": "859b7916",
   "metadata": {},
   "source": [
    "## 3️⃣ Nested Loops\n",
    "A loop inside another loop."
   ]
  },
  {
   "cell_type": "code",
   "execution_count": null,
   "id": "77353692",
   "metadata": {},
   "outputs": [],
   "source": [
    "# Example: Print a 3x3 grid using nested loops\n",
    "for i in range(1, 4):\n",
    "    for j in range(1, 4):\n",
    "        print(f\"{i},{j}\", end=\"  \")\n",
    "    print()"
   ]
  },
  {
   "cell_type": "markdown",
   "id": "d95f7ca2",
   "metadata": {},
   "source": [
    "## 🔹 Break Statement\n",
    "Exits the loop immediately when a condition is met."
   ]
  },
  {
   "cell_type": "code",
   "execution_count": null,
   "id": "af956317",
   "metadata": {},
   "outputs": [],
   "source": [
    "# Example: Stop loop when i equals 5\n",
    "for i in range(1, 10):\n",
    "    if i == 5:\n",
    "        break\n",
    "    print(i)"
   ]
  },
  {
   "cell_type": "markdown",
   "id": "77df0827",
   "metadata": {},
   "source": [
    "## 🔹 Continue Statement\n",
    "Skips the current iteration and moves to the next one."
   ]
  },
  {
   "cell_type": "code",
   "execution_count": null,
   "id": "25476888",
   "metadata": {},
   "outputs": [],
   "source": [
    "# Example: Skip printing number 3\n",
    "for i in range(1, 6):\n",
    "    if i == 3:\n",
    "        continue\n",
    "    print(i)"
   ]
  },
  {
   "cell_type": "markdown",
   "id": "bd357649",
   "metadata": {},
   "source": [
    "## 🔹 Pass Statement\n",
    "Does nothing; acts as a placeholder."
   ]
  },
  {
   "cell_type": "code",
   "execution_count": null,
   "id": "2c9a29a7",
   "metadata": {},
   "outputs": [],
   "source": [
    "# Example: Using pass in a loop\n",
    "for i in range(1, 6):\n",
    "    if i == 3:\n",
    "        pass\n",
    "    print(i)"
   ]
  },
  {
   "cell_type": "markdown",
   "id": "bbdc8774",
   "metadata": {},
   "source": [
    "## ✅ Summary\n",
    "- Use `for` loops for sequences.\n",
    "- Use `while` loops when iterations are unknown.\n",
    "- Use nested loops for multiple dimensions.\n",
    "- Control loops using `break`, `continue`, and `pass`."
   ]
  }
 ],
 "metadata": {},
 "nbformat": 4,
 "nbformat_minor": 5
}